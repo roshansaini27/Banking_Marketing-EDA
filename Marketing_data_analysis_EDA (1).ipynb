{
 "cells": [
  {
   "cell_type": "markdown",
   "id": "c50cbc66",
   "metadata": {},
   "source": [
    "# Marketing Data Analysis (Banking)"
   ]
  },
  {
   "cell_type": "markdown",
   "id": "06d58a05",
   "metadata": {},
   "source": [
    "# **1. Import libraries**"
   ]
  },
  {
   "cell_type": "code",
   "execution_count": 1,
   "id": "82f566a8",
   "metadata": {},
   "outputs": [],
   "source": [
    "import pandas as pd\n",
    "import numpy as np\n",
    "import matplotlib.pyplot as plt\n",
    "from scipy.stats import spearmanr\n",
    "import seaborn as sns\n",
    "import statsmodels.api as sm\n",
    "import os\n",
    "from statsmodels.stats.outliers_influence import variance_inflation_factor\n",
    "from sklearn import metrics\n",
    "from sklearn.metrics import r2_score\n",
    "from sklearn.model_selection import train_test_split\n",
    "sns.set()\n",
    "import warnings\n",
    "warnings.filterwarnings(\"ignore\", category=FutureWarning)\n",
    "import warnings\n",
    "warnings.filterwarnings('ignore')"
   ]
  },
  {
   "cell_type": "markdown",
   "id": "0296d185",
   "metadata": {},
   "source": [
    "# **2. Read data**"
   ]
  },
  {
   "cell_type": "code",
   "execution_count": 2,
   "id": "bdcf2177",
   "metadata": {},
   "outputs": [
    {
     "data": {
      "text/plain": [
       "'C:\\\\Users\\\\Dell'"
      ]
     },
     "execution_count": 2,
     "metadata": {},
     "output_type": "execute_result"
    }
   ],
   "source": [
    "## This will show current working diractory\n",
    "os.getcwd()"
   ]
  },
  {
   "cell_type": "code",
   "execution_count": 3,
   "id": "6734e305",
   "metadata": {},
   "outputs": [
    {
     "data": {
      "text/html": [
       "<div>\n",
       "<style scoped>\n",
       "    .dataframe tbody tr th:only-of-type {\n",
       "        vertical-align: middle;\n",
       "    }\n",
       "\n",
       "    .dataframe tbody tr th {\n",
       "        vertical-align: top;\n",
       "    }\n",
       "\n",
       "    .dataframe thead th {\n",
       "        text-align: right;\n",
       "    }\n",
       "</style>\n",
       "<table border=\"1\" class=\"dataframe\">\n",
       "  <thead>\n",
       "    <tr style=\"text-align: right;\">\n",
       "      <th></th>\n",
       "      <th>banking marketing</th>\n",
       "      <th>Unnamed: 1</th>\n",
       "      <th>Unnamed: 2</th>\n",
       "      <th>Unnamed: 3</th>\n",
       "      <th>Unnamed: 4</th>\n",
       "      <th>Unnamed: 5</th>\n",
       "      <th>Unnamed: 6</th>\n",
       "      <th>Unnamed: 7</th>\n",
       "      <th>Unnamed: 8</th>\n",
       "      <th>Unnamed: 9</th>\n",
       "      <th>Unnamed: 10</th>\n",
       "      <th>Unnamed: 11</th>\n",
       "      <th>Unnamed: 12</th>\n",
       "      <th>Unnamed: 13</th>\n",
       "      <th>Unnamed: 14</th>\n",
       "      <th>Unnamed: 15</th>\n",
       "      <th>Unnamed: 16</th>\n",
       "      <th>Unnamed: 17</th>\n",
       "      <th>Unnamed: 18</th>\n",
       "    </tr>\n",
       "  </thead>\n",
       "  <tbody>\n",
       "    <tr>\n",
       "      <th>0</th>\n",
       "      <td>customer id and age.</td>\n",
       "      <td>NaN</td>\n",
       "      <td>Customer salary and balance.</td>\n",
       "      <td>NaN</td>\n",
       "      <td>Customer marital status and job with education...</td>\n",
       "      <td>NaN</td>\n",
       "      <td>particular customer before targeted or not</td>\n",
       "      <td>NaN</td>\n",
       "      <td>Loan types: loans or housing loans</td>\n",
       "      <td>NaN</td>\n",
       "      <td>Contact type</td>\n",
       "      <td>NaN</td>\n",
       "      <td>month of contact</td>\n",
       "      <td>duration of call</td>\n",
       "      <td>NaN</td>\n",
       "      <td>NaN</td>\n",
       "      <td>NaN</td>\n",
       "      <td>outcome of previous contact</td>\n",
       "      <td>response of customer after call happned</td>\n",
       "    </tr>\n",
       "    <tr>\n",
       "      <th>1</th>\n",
       "      <td>customerid</td>\n",
       "      <td>age</td>\n",
       "      <td>salary</td>\n",
       "      <td>balance</td>\n",
       "      <td>marital</td>\n",
       "      <td>jobedu</td>\n",
       "      <td>targeted</td>\n",
       "      <td>default</td>\n",
       "      <td>housing</td>\n",
       "      <td>loan</td>\n",
       "      <td>contact</td>\n",
       "      <td>day</td>\n",
       "      <td>month</td>\n",
       "      <td>duration</td>\n",
       "      <td>campaign</td>\n",
       "      <td>pdays</td>\n",
       "      <td>previous</td>\n",
       "      <td>poutcome</td>\n",
       "      <td>response</td>\n",
       "    </tr>\n",
       "    <tr>\n",
       "      <th>2</th>\n",
       "      <td>1</td>\n",
       "      <td>58</td>\n",
       "      <td>100000</td>\n",
       "      <td>2143</td>\n",
       "      <td>married</td>\n",
       "      <td>management,tertiary</td>\n",
       "      <td>yes</td>\n",
       "      <td>no</td>\n",
       "      <td>yes</td>\n",
       "      <td>no</td>\n",
       "      <td>unknown</td>\n",
       "      <td>5</td>\n",
       "      <td>may, 2017</td>\n",
       "      <td>261 sec</td>\n",
       "      <td>1</td>\n",
       "      <td>-1</td>\n",
       "      <td>0</td>\n",
       "      <td>unknown</td>\n",
       "      <td>no</td>\n",
       "    </tr>\n",
       "    <tr>\n",
       "      <th>3</th>\n",
       "      <td>2</td>\n",
       "      <td>44</td>\n",
       "      <td>60000</td>\n",
       "      <td>29</td>\n",
       "      <td>single</td>\n",
       "      <td>technician,secondary</td>\n",
       "      <td>yes</td>\n",
       "      <td>no</td>\n",
       "      <td>yes</td>\n",
       "      <td>no</td>\n",
       "      <td>unknown</td>\n",
       "      <td>5</td>\n",
       "      <td>may, 2017</td>\n",
       "      <td>151 sec</td>\n",
       "      <td>1</td>\n",
       "      <td>-1</td>\n",
       "      <td>0</td>\n",
       "      <td>unknown</td>\n",
       "      <td>no</td>\n",
       "    </tr>\n",
       "    <tr>\n",
       "      <th>4</th>\n",
       "      <td>3</td>\n",
       "      <td>33</td>\n",
       "      <td>120000</td>\n",
       "      <td>2</td>\n",
       "      <td>married</td>\n",
       "      <td>entrepreneur,secondary</td>\n",
       "      <td>yes</td>\n",
       "      <td>no</td>\n",
       "      <td>yes</td>\n",
       "      <td>yes</td>\n",
       "      <td>unknown</td>\n",
       "      <td>5</td>\n",
       "      <td>may, 2017</td>\n",
       "      <td>76 sec</td>\n",
       "      <td>1</td>\n",
       "      <td>-1</td>\n",
       "      <td>0</td>\n",
       "      <td>unknown</td>\n",
       "      <td>no</td>\n",
       "    </tr>\n",
       "  </tbody>\n",
       "</table>\n",
       "</div>"
      ],
      "text/plain": [
       "      banking marketing Unnamed: 1                    Unnamed: 2 Unnamed: 3  \\\n",
       "0  customer id and age.        NaN  Customer salary and balance.        NaN   \n",
       "1            customerid        age                        salary    balance   \n",
       "2                     1         58                        100000       2143   \n",
       "3                     2         44                         60000         29   \n",
       "4                     3         33                        120000          2   \n",
       "\n",
       "                                          Unnamed: 4              Unnamed: 5  \\\n",
       "0  Customer marital status and job with education...                     NaN   \n",
       "1                                            marital                  jobedu   \n",
       "2                                            married     management,tertiary   \n",
       "3                                             single    technician,secondary   \n",
       "4                                            married  entrepreneur,secondary   \n",
       "\n",
       "                                   Unnamed: 6 Unnamed: 7  \\\n",
       "0  particular customer before targeted or not        NaN   \n",
       "1                                    targeted    default   \n",
       "2                                         yes         no   \n",
       "3                                         yes         no   \n",
       "4                                         yes         no   \n",
       "\n",
       "                           Unnamed: 8 Unnamed: 9   Unnamed: 10 Unnamed: 11  \\\n",
       "0  Loan types: loans or housing loans        NaN  Contact type         NaN   \n",
       "1                             housing       loan       contact         day   \n",
       "2                                 yes         no       unknown           5   \n",
       "3                                 yes         no       unknown           5   \n",
       "4                                 yes        yes       unknown           5   \n",
       "\n",
       "        Unnamed: 12       Unnamed: 13 Unnamed: 14 Unnamed: 15 Unnamed: 16  \\\n",
       "0  month of contact  duration of call         NaN         NaN         NaN   \n",
       "1             month          duration    campaign       pdays    previous   \n",
       "2         may, 2017           261 sec           1          -1           0   \n",
       "3         may, 2017           151 sec           1          -1           0   \n",
       "4         may, 2017            76 sec           1          -1           0   \n",
       "\n",
       "                   Unnamed: 17                              Unnamed: 18  \n",
       "0  outcome of previous contact  response of customer after call happned  \n",
       "1                     poutcome                                 response  \n",
       "2                      unknown                                       no  \n",
       "3                      unknown                                       no  \n",
       "4                      unknown                                       no  "
      ]
     },
     "execution_count": 3,
     "metadata": {},
     "output_type": "execute_result"
    }
   ],
   "source": [
    "# Read the data from cvs into a Pandas DataFrame\n",
    "data= pd.read_csv(r'C:\\Users\\Dell\\Downloads\\Data Sets\\Banking_marketing_data.csv')\n",
    "data.head()\n"
   ]
  },
  {
   "cell_type": "markdown",
   "id": "6bf823d4",
   "metadata": {},
   "source": [
    "### Fixing the rows and columns\n"
   ]
  },
  {
   "cell_type": "code",
   "execution_count": 4,
   "id": "e8c72d73",
   "metadata": {},
   "outputs": [
    {
     "data": {
      "text/html": [
       "<div>\n",
       "<style scoped>\n",
       "    .dataframe tbody tr th:only-of-type {\n",
       "        vertical-align: middle;\n",
       "    }\n",
       "\n",
       "    .dataframe tbody tr th {\n",
       "        vertical-align: top;\n",
       "    }\n",
       "\n",
       "    .dataframe thead th {\n",
       "        text-align: right;\n",
       "    }\n",
       "</style>\n",
       "<table border=\"1\" class=\"dataframe\">\n",
       "  <thead>\n",
       "    <tr style=\"text-align: right;\">\n",
       "      <th></th>\n",
       "      <th>customerid</th>\n",
       "      <th>age</th>\n",
       "      <th>salary</th>\n",
       "      <th>balance</th>\n",
       "      <th>marital</th>\n",
       "      <th>jobedu</th>\n",
       "      <th>targeted</th>\n",
       "      <th>default</th>\n",
       "      <th>housing</th>\n",
       "      <th>loan</th>\n",
       "      <th>contact</th>\n",
       "      <th>day</th>\n",
       "      <th>month</th>\n",
       "      <th>duration</th>\n",
       "      <th>campaign</th>\n",
       "      <th>pdays</th>\n",
       "      <th>previous</th>\n",
       "      <th>poutcome</th>\n",
       "      <th>response</th>\n",
       "    </tr>\n",
       "  </thead>\n",
       "  <tbody>\n",
       "    <tr>\n",
       "      <th>0</th>\n",
       "      <td>1</td>\n",
       "      <td>58.0</td>\n",
       "      <td>100000</td>\n",
       "      <td>2143</td>\n",
       "      <td>married</td>\n",
       "      <td>management,tertiary</td>\n",
       "      <td>yes</td>\n",
       "      <td>no</td>\n",
       "      <td>yes</td>\n",
       "      <td>no</td>\n",
       "      <td>unknown</td>\n",
       "      <td>5</td>\n",
       "      <td>may, 2017</td>\n",
       "      <td>261 sec</td>\n",
       "      <td>1</td>\n",
       "      <td>-1</td>\n",
       "      <td>0</td>\n",
       "      <td>unknown</td>\n",
       "      <td>no</td>\n",
       "    </tr>\n",
       "    <tr>\n",
       "      <th>1</th>\n",
       "      <td>2</td>\n",
       "      <td>44.0</td>\n",
       "      <td>60000</td>\n",
       "      <td>29</td>\n",
       "      <td>single</td>\n",
       "      <td>technician,secondary</td>\n",
       "      <td>yes</td>\n",
       "      <td>no</td>\n",
       "      <td>yes</td>\n",
       "      <td>no</td>\n",
       "      <td>unknown</td>\n",
       "      <td>5</td>\n",
       "      <td>may, 2017</td>\n",
       "      <td>151 sec</td>\n",
       "      <td>1</td>\n",
       "      <td>-1</td>\n",
       "      <td>0</td>\n",
       "      <td>unknown</td>\n",
       "      <td>no</td>\n",
       "    </tr>\n",
       "    <tr>\n",
       "      <th>2</th>\n",
       "      <td>3</td>\n",
       "      <td>33.0</td>\n",
       "      <td>120000</td>\n",
       "      <td>2</td>\n",
       "      <td>married</td>\n",
       "      <td>entrepreneur,secondary</td>\n",
       "      <td>yes</td>\n",
       "      <td>no</td>\n",
       "      <td>yes</td>\n",
       "      <td>yes</td>\n",
       "      <td>unknown</td>\n",
       "      <td>5</td>\n",
       "      <td>may, 2017</td>\n",
       "      <td>76 sec</td>\n",
       "      <td>1</td>\n",
       "      <td>-1</td>\n",
       "      <td>0</td>\n",
       "      <td>unknown</td>\n",
       "      <td>no</td>\n",
       "    </tr>\n",
       "    <tr>\n",
       "      <th>3</th>\n",
       "      <td>4</td>\n",
       "      <td>47.0</td>\n",
       "      <td>20000</td>\n",
       "      <td>1506</td>\n",
       "      <td>married</td>\n",
       "      <td>blue-collar,unknown</td>\n",
       "      <td>no</td>\n",
       "      <td>no</td>\n",
       "      <td>yes</td>\n",
       "      <td>no</td>\n",
       "      <td>unknown</td>\n",
       "      <td>5</td>\n",
       "      <td>may, 2017</td>\n",
       "      <td>92 sec</td>\n",
       "      <td>1</td>\n",
       "      <td>-1</td>\n",
       "      <td>0</td>\n",
       "      <td>unknown</td>\n",
       "      <td>no</td>\n",
       "    </tr>\n",
       "    <tr>\n",
       "      <th>4</th>\n",
       "      <td>5</td>\n",
       "      <td>33.0</td>\n",
       "      <td>0</td>\n",
       "      <td>1</td>\n",
       "      <td>single</td>\n",
       "      <td>unknown,unknown</td>\n",
       "      <td>no</td>\n",
       "      <td>no</td>\n",
       "      <td>no</td>\n",
       "      <td>no</td>\n",
       "      <td>unknown</td>\n",
       "      <td>5</td>\n",
       "      <td>may, 2017</td>\n",
       "      <td>198 sec</td>\n",
       "      <td>1</td>\n",
       "      <td>-1</td>\n",
       "      <td>0</td>\n",
       "      <td>unknown</td>\n",
       "      <td>no</td>\n",
       "    </tr>\n",
       "  </tbody>\n",
       "</table>\n",
       "</div>"
      ],
      "text/plain": [
       "   customerid   age  salary  balance  marital                  jobedu  \\\n",
       "0           1  58.0  100000     2143  married     management,tertiary   \n",
       "1           2  44.0   60000       29   single    technician,secondary   \n",
       "2           3  33.0  120000        2  married  entrepreneur,secondary   \n",
       "3           4  47.0   20000     1506  married     blue-collar,unknown   \n",
       "4           5  33.0       0        1   single         unknown,unknown   \n",
       "\n",
       "  targeted default housing loan  contact  day      month duration  campaign  \\\n",
       "0      yes      no     yes   no  unknown    5  may, 2017  261 sec         1   \n",
       "1      yes      no     yes   no  unknown    5  may, 2017  151 sec         1   \n",
       "2      yes      no     yes  yes  unknown    5  may, 2017   76 sec         1   \n",
       "3       no      no     yes   no  unknown    5  may, 2017   92 sec         1   \n",
       "4       no      no      no   no  unknown    5  may, 2017  198 sec         1   \n",
       "\n",
       "   pdays  previous poutcome response  \n",
       "0     -1         0  unknown       no  \n",
       "1     -1         0  unknown       no  \n",
       "2     -1         0  unknown       no  \n",
       "3     -1         0  unknown       no  \n",
       "4     -1         0  unknown       no  "
      ]
     },
     "execution_count": 4,
     "metadata": {},
     "output_type": "execute_result"
    }
   ],
   "source": [
    "# Read the file in data without first two rows as it is of no use.\n",
    "data0 = pd.read_csv(r'C:\\Users\\Dell\\Downloads\\Data Sets\\Banking_marketing_data.csv',skiprows = 2)\n",
    "# This give top 5 rows of datset\n",
    "data0.head()\n"
   ]
  },
  {
   "cell_type": "code",
   "execution_count": 5,
   "id": "120490c6",
   "metadata": {},
   "outputs": [
    {
     "data": {
      "text/html": [
       "<div>\n",
       "<style scoped>\n",
       "    .dataframe tbody tr th:only-of-type {\n",
       "        vertical-align: middle;\n",
       "    }\n",
       "\n",
       "    .dataframe tbody tr th {\n",
       "        vertical-align: top;\n",
       "    }\n",
       "\n",
       "    .dataframe thead th {\n",
       "        text-align: right;\n",
       "    }\n",
       "</style>\n",
       "<table border=\"1\" class=\"dataframe\">\n",
       "  <thead>\n",
       "    <tr style=\"text-align: right;\">\n",
       "      <th></th>\n",
       "      <th>customerid</th>\n",
       "      <th>age</th>\n",
       "      <th>salary</th>\n",
       "      <th>balance</th>\n",
       "      <th>marital</th>\n",
       "      <th>targeted</th>\n",
       "      <th>default</th>\n",
       "      <th>housing</th>\n",
       "      <th>loan</th>\n",
       "      <th>contact</th>\n",
       "      <th>day</th>\n",
       "      <th>month</th>\n",
       "      <th>duration</th>\n",
       "      <th>campaign</th>\n",
       "      <th>pdays</th>\n",
       "      <th>previous</th>\n",
       "      <th>poutcome</th>\n",
       "      <th>response</th>\n",
       "      <th>job</th>\n",
       "      <th>education</th>\n",
       "    </tr>\n",
       "  </thead>\n",
       "  <tbody>\n",
       "    <tr>\n",
       "      <th>0</th>\n",
       "      <td>1</td>\n",
       "      <td>58.0</td>\n",
       "      <td>100000</td>\n",
       "      <td>2143</td>\n",
       "      <td>married</td>\n",
       "      <td>yes</td>\n",
       "      <td>no</td>\n",
       "      <td>yes</td>\n",
       "      <td>no</td>\n",
       "      <td>unknown</td>\n",
       "      <td>5</td>\n",
       "      <td>may, 2017</td>\n",
       "      <td>261 sec</td>\n",
       "      <td>1</td>\n",
       "      <td>-1</td>\n",
       "      <td>0</td>\n",
       "      <td>unknown</td>\n",
       "      <td>no</td>\n",
       "      <td>management</td>\n",
       "      <td>tertiary</td>\n",
       "    </tr>\n",
       "    <tr>\n",
       "      <th>1</th>\n",
       "      <td>2</td>\n",
       "      <td>44.0</td>\n",
       "      <td>60000</td>\n",
       "      <td>29</td>\n",
       "      <td>single</td>\n",
       "      <td>yes</td>\n",
       "      <td>no</td>\n",
       "      <td>yes</td>\n",
       "      <td>no</td>\n",
       "      <td>unknown</td>\n",
       "      <td>5</td>\n",
       "      <td>may, 2017</td>\n",
       "      <td>151 sec</td>\n",
       "      <td>1</td>\n",
       "      <td>-1</td>\n",
       "      <td>0</td>\n",
       "      <td>unknown</td>\n",
       "      <td>no</td>\n",
       "      <td>technician</td>\n",
       "      <td>secondary</td>\n",
       "    </tr>\n",
       "    <tr>\n",
       "      <th>2</th>\n",
       "      <td>3</td>\n",
       "      <td>33.0</td>\n",
       "      <td>120000</td>\n",
       "      <td>2</td>\n",
       "      <td>married</td>\n",
       "      <td>yes</td>\n",
       "      <td>no</td>\n",
       "      <td>yes</td>\n",
       "      <td>yes</td>\n",
       "      <td>unknown</td>\n",
       "      <td>5</td>\n",
       "      <td>may, 2017</td>\n",
       "      <td>76 sec</td>\n",
       "      <td>1</td>\n",
       "      <td>-1</td>\n",
       "      <td>0</td>\n",
       "      <td>unknown</td>\n",
       "      <td>no</td>\n",
       "      <td>entrepreneur</td>\n",
       "      <td>secondary</td>\n",
       "    </tr>\n",
       "    <tr>\n",
       "      <th>3</th>\n",
       "      <td>4</td>\n",
       "      <td>47.0</td>\n",
       "      <td>20000</td>\n",
       "      <td>1506</td>\n",
       "      <td>married</td>\n",
       "      <td>no</td>\n",
       "      <td>no</td>\n",
       "      <td>yes</td>\n",
       "      <td>no</td>\n",
       "      <td>unknown</td>\n",
       "      <td>5</td>\n",
       "      <td>may, 2017</td>\n",
       "      <td>92 sec</td>\n",
       "      <td>1</td>\n",
       "      <td>-1</td>\n",
       "      <td>0</td>\n",
       "      <td>unknown</td>\n",
       "      <td>no</td>\n",
       "      <td>blue-collar</td>\n",
       "      <td>unknown</td>\n",
       "    </tr>\n",
       "    <tr>\n",
       "      <th>4</th>\n",
       "      <td>5</td>\n",
       "      <td>33.0</td>\n",
       "      <td>0</td>\n",
       "      <td>1</td>\n",
       "      <td>single</td>\n",
       "      <td>no</td>\n",
       "      <td>no</td>\n",
       "      <td>no</td>\n",
       "      <td>no</td>\n",
       "      <td>unknown</td>\n",
       "      <td>5</td>\n",
       "      <td>may, 2017</td>\n",
       "      <td>198 sec</td>\n",
       "      <td>1</td>\n",
       "      <td>-1</td>\n",
       "      <td>0</td>\n",
       "      <td>unknown</td>\n",
       "      <td>no</td>\n",
       "      <td>unknown</td>\n",
       "      <td>unknown</td>\n",
       "    </tr>\n",
       "  </tbody>\n",
       "</table>\n",
       "</div>"
      ],
      "text/plain": [
       "   customerid   age  salary  balance  marital targeted default housing loan  \\\n",
       "0           1  58.0  100000     2143  married      yes      no     yes   no   \n",
       "1           2  44.0   60000       29   single      yes      no     yes   no   \n",
       "2           3  33.0  120000        2  married      yes      no     yes  yes   \n",
       "3           4  47.0   20000     1506  married       no      no     yes   no   \n",
       "4           5  33.0       0        1   single       no      no      no   no   \n",
       "\n",
       "   contact  day      month duration  campaign  pdays  previous poutcome  \\\n",
       "0  unknown    5  may, 2017  261 sec         1     -1         0  unknown   \n",
       "1  unknown    5  may, 2017  151 sec         1     -1         0  unknown   \n",
       "2  unknown    5  may, 2017   76 sec         1     -1         0  unknown   \n",
       "3  unknown    5  may, 2017   92 sec         1     -1         0  unknown   \n",
       "4  unknown    5  may, 2017  198 sec         1     -1         0  unknown   \n",
       "\n",
       "  response           job  education  \n",
       "0       no    management   tertiary  \n",
       "1       no    technician  secondary  \n",
       "2       no  entrepreneur  secondary  \n",
       "3       no   blue-collar    unknown  \n",
       "4       no       unknown    unknown  "
      ]
     },
     "execution_count": 5,
     "metadata": {},
     "output_type": "execute_result"
    }
   ],
   "source": [
    "#Extract job  & Education in newly from \"jobedu\" column.\n",
    "\n",
    "data0['job']= data0['jobedu'].apply(lambda x: x.split(\",\")[0])\n",
    "data0['education']= data0['jobedu'].apply(lambda x: x.split(\",\")[1])\n",
    "\n",
    "# Drop the \"jobedu\" column from the dataframe.\n",
    "data0.drop('jobedu', axis = 1, inplace = True)\n",
    "\n",
    "# Printing the Dataset\n",
    "data0.head()"
   ]
  },
  {
   "cell_type": "markdown",
   "id": "f1c9eb59",
   "metadata": {},
   "source": [
    "### **About this data** "
   ]
  },
  {
   "cell_type": "markdown",
   "id": "0fa4667d",
   "metadata": {},
   "source": [
    "This is the classic marketing bank dataset uploaded originally in the UCI Machine Learning Repository. The dataset gives you information about a marketing campaign of a financial institution. \n",
    "\n",
    "Input variables:\n",
    "- Age (Age of customer)\n",
    "- Job (Job of customer)\n",
    "- Martial (Martial status of customer)\n",
    "- Education (Customer education level)\n",
    "- Defaul (Has credit in default?)\n",
    "- Housing (If costumer has housing loan)\n",
    "- Loan\t  (Has Personal Loan)\n",
    "- Balance (Customer's individual balance)\n",
    "- Contact (Communication type)\n",
    "- Month\t   (Last contact month of year)\n",
    "- Day\t   (Last contact day of the week)\n",
    "- Duration\t(Last contact duration, in seconds,this attribute highly affects the output target (e.g., if duration=0 theny='no')\n",
    "- Campaign\t(Number of contacts performed during this campaign and for this client)\n",
    "- Pdays\t    (Number of days that passed by after the client was last contacted from a previous campaign)\n",
    "- Previous\t(Number of contacts performed before this campaign and for this client)\n",
    "- Poutcome\t(outcome of the previous marketing campaign)\n",
    "- Response\t(has the client subscribed a term deposit (binary: 'yes','no')\n",
    "- Salary     ( Salary of client)\n",
    "- Targeted    (particular customer before targeted or not)\n",
    "- customerid  (customerid for perticular customer)\n"
   ]
  },
  {
   "cell_type": "markdown",
   "id": "a393e5ce",
   "metadata": {},
   "source": [
    "### Objective: \n",
    "Analyze data in order to find ways to look for future strategies in order to improve future marketing campaigns for the bank."
   ]
  },
  {
   "cell_type": "markdown",
   "id": "649d0fe4",
   "metadata": {},
   "source": [
    "# **3. Data review and checks**"
   ]
  },
  {
   "cell_type": "code",
   "execution_count": 6,
   "id": "769ce984",
   "metadata": {},
   "outputs": [
    {
     "name": "stdout",
     "output_type": "stream",
     "text": [
      "(45211, 20)\n"
     ]
    }
   ],
   "source": [
    "print(data0.shape)"
   ]
  },
  {
   "cell_type": "markdown",
   "id": "4eeb4e3e",
   "metadata": {},
   "source": [
    "- This dataset has rows=45211 and columns=19"
   ]
  },
  {
   "cell_type": "code",
   "execution_count": 7,
   "id": "682657d9",
   "metadata": {},
   "outputs": [
    {
     "name": "stdout",
     "output_type": "stream",
     "text": [
      "['customerid', 'age', 'salary', 'balance', 'day', 'campaign', 'pdays', 'previous']\n",
      "8\n",
      "['marital', 'targeted', 'default', 'housing', 'loan', 'contact', 'month', 'duration', 'poutcome', 'response', 'job', 'education']\n",
      "12\n"
     ]
    }
   ],
   "source": [
    "# Check data types in this dateset\n",
    "numeric_col= list(data0.select_dtypes(np.number))\n",
    "print(numeric_col)\n",
    "print(len(numeric_col))\n",
    "categorical_col= list(data0.select_dtypes(include= 'object'))\n",
    "print((categorical_col))\n",
    "print(len(categorical_col))"
   ]
  },
  {
   "cell_type": "code",
   "execution_count": 8,
   "id": "6ad0cfaf",
   "metadata": {},
   "outputs": [
    {
     "name": "stdout",
     "output_type": "stream",
     "text": [
      "<class 'pandas.core.frame.DataFrame'>\n",
      "RangeIndex: 45211 entries, 0 to 45210\n",
      "Data columns (total 20 columns):\n",
      " #   Column      Non-Null Count  Dtype  \n",
      "---  ------      --------------  -----  \n",
      " 0   customerid  45211 non-null  int64  \n",
      " 1   age         45191 non-null  float64\n",
      " 2   salary      45211 non-null  int64  \n",
      " 3   balance     45211 non-null  int64  \n",
      " 4   marital     45211 non-null  object \n",
      " 5   targeted    45211 non-null  object \n",
      " 6   default     45211 non-null  object \n",
      " 7   housing     45211 non-null  object \n",
      " 8   loan        45211 non-null  object \n",
      " 9   contact     45211 non-null  object \n",
      " 10  day         45211 non-null  int64  \n",
      " 11  month       45161 non-null  object \n",
      " 12  duration    45211 non-null  object \n",
      " 13  campaign    45211 non-null  int64  \n",
      " 14  pdays       45211 non-null  int64  \n",
      " 15  previous    45211 non-null  int64  \n",
      " 16  poutcome    45211 non-null  object \n",
      " 17  response    45181 non-null  object \n",
      " 18  job         45211 non-null  object \n",
      " 19  education   45211 non-null  object \n",
      "dtypes: float64(1), int64(7), object(12)\n",
      "memory usage: 6.9+ MB\n"
     ]
    }
   ],
   "source": [
    "data0.info()"
   ]
  },
  {
   "cell_type": "code",
   "execution_count": 9,
   "id": "3c83e9a2",
   "metadata": {},
   "outputs": [
    {
     "data": {
      "text/plain": [
       "0"
      ]
     },
     "execution_count": 9,
     "metadata": {},
     "output_type": "execute_result"
    }
   ],
   "source": [
    "# Handling duplicate values\n",
    "data0.duplicated().sum()"
   ]
  },
  {
   "cell_type": "markdown",
   "id": "61393823",
   "metadata": {},
   "source": [
    "- Thare is no duplicate values in this dataset"
   ]
  },
  {
   "cell_type": "code",
   "execution_count": 10,
   "id": "61cb7b53",
   "metadata": {},
   "outputs": [
    {
     "data": {
      "text/html": [
       "<div>\n",
       "<style scoped>\n",
       "    .dataframe tbody tr th:only-of-type {\n",
       "        vertical-align: middle;\n",
       "    }\n",
       "\n",
       "    .dataframe tbody tr th {\n",
       "        vertical-align: top;\n",
       "    }\n",
       "\n",
       "    .dataframe thead th {\n",
       "        text-align: right;\n",
       "    }\n",
       "</style>\n",
       "<table border=\"1\" class=\"dataframe\">\n",
       "  <thead>\n",
       "    <tr style=\"text-align: right;\">\n",
       "      <th></th>\n",
       "      <th>age</th>\n",
       "      <th>salary</th>\n",
       "      <th>balance</th>\n",
       "      <th>marital</th>\n",
       "      <th>targeted</th>\n",
       "      <th>default</th>\n",
       "      <th>housing</th>\n",
       "      <th>loan</th>\n",
       "      <th>contact</th>\n",
       "      <th>day</th>\n",
       "      <th>month</th>\n",
       "      <th>duration</th>\n",
       "      <th>campaign</th>\n",
       "      <th>pdays</th>\n",
       "      <th>previous</th>\n",
       "      <th>poutcome</th>\n",
       "      <th>response</th>\n",
       "      <th>job</th>\n",
       "      <th>education</th>\n",
       "    </tr>\n",
       "  </thead>\n",
       "  <tbody>\n",
       "    <tr>\n",
       "      <th>0</th>\n",
       "      <td>58.0</td>\n",
       "      <td>100000</td>\n",
       "      <td>2143</td>\n",
       "      <td>married</td>\n",
       "      <td>yes</td>\n",
       "      <td>no</td>\n",
       "      <td>yes</td>\n",
       "      <td>no</td>\n",
       "      <td>unknown</td>\n",
       "      <td>5</td>\n",
       "      <td>may, 2017</td>\n",
       "      <td>261 sec</td>\n",
       "      <td>1</td>\n",
       "      <td>-1</td>\n",
       "      <td>0</td>\n",
       "      <td>unknown</td>\n",
       "      <td>no</td>\n",
       "      <td>management</td>\n",
       "      <td>tertiary</td>\n",
       "    </tr>\n",
       "    <tr>\n",
       "      <th>1</th>\n",
       "      <td>44.0</td>\n",
       "      <td>60000</td>\n",
       "      <td>29</td>\n",
       "      <td>single</td>\n",
       "      <td>yes</td>\n",
       "      <td>no</td>\n",
       "      <td>yes</td>\n",
       "      <td>no</td>\n",
       "      <td>unknown</td>\n",
       "      <td>5</td>\n",
       "      <td>may, 2017</td>\n",
       "      <td>151 sec</td>\n",
       "      <td>1</td>\n",
       "      <td>-1</td>\n",
       "      <td>0</td>\n",
       "      <td>unknown</td>\n",
       "      <td>no</td>\n",
       "      <td>technician</td>\n",
       "      <td>secondary</td>\n",
       "    </tr>\n",
       "    <tr>\n",
       "      <th>2</th>\n",
       "      <td>33.0</td>\n",
       "      <td>120000</td>\n",
       "      <td>2</td>\n",
       "      <td>married</td>\n",
       "      <td>yes</td>\n",
       "      <td>no</td>\n",
       "      <td>yes</td>\n",
       "      <td>yes</td>\n",
       "      <td>unknown</td>\n",
       "      <td>5</td>\n",
       "      <td>may, 2017</td>\n",
       "      <td>76 sec</td>\n",
       "      <td>1</td>\n",
       "      <td>-1</td>\n",
       "      <td>0</td>\n",
       "      <td>unknown</td>\n",
       "      <td>no</td>\n",
       "      <td>entrepreneur</td>\n",
       "      <td>secondary</td>\n",
       "    </tr>\n",
       "    <tr>\n",
       "      <th>3</th>\n",
       "      <td>47.0</td>\n",
       "      <td>20000</td>\n",
       "      <td>1506</td>\n",
       "      <td>married</td>\n",
       "      <td>no</td>\n",
       "      <td>no</td>\n",
       "      <td>yes</td>\n",
       "      <td>no</td>\n",
       "      <td>unknown</td>\n",
       "      <td>5</td>\n",
       "      <td>may, 2017</td>\n",
       "      <td>92 sec</td>\n",
       "      <td>1</td>\n",
       "      <td>-1</td>\n",
       "      <td>0</td>\n",
       "      <td>unknown</td>\n",
       "      <td>no</td>\n",
       "      <td>blue-collar</td>\n",
       "      <td>unknown</td>\n",
       "    </tr>\n",
       "    <tr>\n",
       "      <th>4</th>\n",
       "      <td>33.0</td>\n",
       "      <td>0</td>\n",
       "      <td>1</td>\n",
       "      <td>single</td>\n",
       "      <td>no</td>\n",
       "      <td>no</td>\n",
       "      <td>no</td>\n",
       "      <td>no</td>\n",
       "      <td>unknown</td>\n",
       "      <td>5</td>\n",
       "      <td>may, 2017</td>\n",
       "      <td>198 sec</td>\n",
       "      <td>1</td>\n",
       "      <td>-1</td>\n",
       "      <td>0</td>\n",
       "      <td>unknown</td>\n",
       "      <td>no</td>\n",
       "      <td>unknown</td>\n",
       "      <td>unknown</td>\n",
       "    </tr>\n",
       "  </tbody>\n",
       "</table>\n",
       "</div>"
      ],
      "text/plain": [
       "    age  salary  balance  marital targeted default housing loan  contact  day  \\\n",
       "0  58.0  100000     2143  married      yes      no     yes   no  unknown    5   \n",
       "1  44.0   60000       29   single      yes      no     yes   no  unknown    5   \n",
       "2  33.0  120000        2  married      yes      no     yes  yes  unknown    5   \n",
       "3  47.0   20000     1506  married       no      no     yes   no  unknown    5   \n",
       "4  33.0       0        1   single       no      no      no   no  unknown    5   \n",
       "\n",
       "       month duration  campaign  pdays  previous poutcome response  \\\n",
       "0  may, 2017  261 sec         1     -1         0  unknown       no   \n",
       "1  may, 2017  151 sec         1     -1         0  unknown       no   \n",
       "2  may, 2017   76 sec         1     -1         0  unknown       no   \n",
       "3  may, 2017   92 sec         1     -1         0  unknown       no   \n",
       "4  may, 2017  198 sec         1     -1         0  unknown       no   \n",
       "\n",
       "            job  education  \n",
       "0    management   tertiary  \n",
       "1    technician  secondary  \n",
       "2  entrepreneur  secondary  \n",
       "3   blue-collar    unknown  \n",
       "4       unknown    unknown  "
      ]
     },
     "execution_count": 10,
     "metadata": {},
     "output_type": "execute_result"
    }
   ],
   "source": [
    "# drop customerid column as it is not useful\n",
    "\n",
    "data1= data0.drop(['customerid'], axis=1)\n",
    "data1.head()"
   ]
  },
  {
   "cell_type": "markdown",
   "id": "cd9989e3",
   "metadata": {},
   "source": [
    "## **3.1 Descriptive Statistics**"
   ]
  },
  {
   "cell_type": "markdown",
   "id": "37ef5eb3",
   "metadata": {},
   "source": [
    "Descriptive statistics are used to describe or summarize the characteristics of a sample or data set, such as a variable's mean, standard deviation, or median. "
   ]
  },
  {
   "cell_type": "code",
   "execution_count": 11,
   "id": "99593a04",
   "metadata": {},
   "outputs": [
    {
     "data": {
      "text/html": [
       "<div>\n",
       "<style scoped>\n",
       "    .dataframe tbody tr th:only-of-type {\n",
       "        vertical-align: middle;\n",
       "    }\n",
       "\n",
       "    .dataframe tbody tr th {\n",
       "        vertical-align: top;\n",
       "    }\n",
       "\n",
       "    .dataframe thead th {\n",
       "        text-align: right;\n",
       "    }\n",
       "</style>\n",
       "<table border=\"1\" class=\"dataframe\">\n",
       "  <thead>\n",
       "    <tr style=\"text-align: right;\">\n",
       "      <th></th>\n",
       "      <th>age</th>\n",
       "      <th>salary</th>\n",
       "      <th>balance</th>\n",
       "      <th>day</th>\n",
       "      <th>campaign</th>\n",
       "      <th>pdays</th>\n",
       "      <th>previous</th>\n",
       "    </tr>\n",
       "  </thead>\n",
       "  <tbody>\n",
       "    <tr>\n",
       "      <th>count</th>\n",
       "      <td>45191.000000</td>\n",
       "      <td>45211.000000</td>\n",
       "      <td>45211.000000</td>\n",
       "      <td>45211.000000</td>\n",
       "      <td>45211.000000</td>\n",
       "      <td>45211.000000</td>\n",
       "      <td>45211.000000</td>\n",
       "    </tr>\n",
       "    <tr>\n",
       "      <th>mean</th>\n",
       "      <td>40.935651</td>\n",
       "      <td>57006.171065</td>\n",
       "      <td>1362.272058</td>\n",
       "      <td>15.806419</td>\n",
       "      <td>2.763841</td>\n",
       "      <td>40.197828</td>\n",
       "      <td>0.580323</td>\n",
       "    </tr>\n",
       "    <tr>\n",
       "      <th>std</th>\n",
       "      <td>10.619198</td>\n",
       "      <td>32085.718415</td>\n",
       "      <td>3044.765829</td>\n",
       "      <td>8.322476</td>\n",
       "      <td>3.098021</td>\n",
       "      <td>100.128746</td>\n",
       "      <td>2.303441</td>\n",
       "    </tr>\n",
       "    <tr>\n",
       "      <th>min</th>\n",
       "      <td>18.000000</td>\n",
       "      <td>0.000000</td>\n",
       "      <td>-8019.000000</td>\n",
       "      <td>1.000000</td>\n",
       "      <td>1.000000</td>\n",
       "      <td>-1.000000</td>\n",
       "      <td>0.000000</td>\n",
       "    </tr>\n",
       "    <tr>\n",
       "      <th>25%</th>\n",
       "      <td>33.000000</td>\n",
       "      <td>20000.000000</td>\n",
       "      <td>72.000000</td>\n",
       "      <td>8.000000</td>\n",
       "      <td>1.000000</td>\n",
       "      <td>-1.000000</td>\n",
       "      <td>0.000000</td>\n",
       "    </tr>\n",
       "    <tr>\n",
       "      <th>50%</th>\n",
       "      <td>39.000000</td>\n",
       "      <td>60000.000000</td>\n",
       "      <td>448.000000</td>\n",
       "      <td>16.000000</td>\n",
       "      <td>2.000000</td>\n",
       "      <td>-1.000000</td>\n",
       "      <td>0.000000</td>\n",
       "    </tr>\n",
       "    <tr>\n",
       "      <th>75%</th>\n",
       "      <td>48.000000</td>\n",
       "      <td>70000.000000</td>\n",
       "      <td>1428.000000</td>\n",
       "      <td>21.000000</td>\n",
       "      <td>3.000000</td>\n",
       "      <td>-1.000000</td>\n",
       "      <td>0.000000</td>\n",
       "    </tr>\n",
       "    <tr>\n",
       "      <th>max</th>\n",
       "      <td>95.000000</td>\n",
       "      <td>120000.000000</td>\n",
       "      <td>102127.000000</td>\n",
       "      <td>31.000000</td>\n",
       "      <td>63.000000</td>\n",
       "      <td>871.000000</td>\n",
       "      <td>275.000000</td>\n",
       "    </tr>\n",
       "  </tbody>\n",
       "</table>\n",
       "</div>"
      ],
      "text/plain": [
       "                age         salary        balance           day      campaign  \\\n",
       "count  45191.000000   45211.000000   45211.000000  45211.000000  45211.000000   \n",
       "mean      40.935651   57006.171065    1362.272058     15.806419      2.763841   \n",
       "std       10.619198   32085.718415    3044.765829      8.322476      3.098021   \n",
       "min       18.000000       0.000000   -8019.000000      1.000000      1.000000   \n",
       "25%       33.000000   20000.000000      72.000000      8.000000      1.000000   \n",
       "50%       39.000000   60000.000000     448.000000     16.000000      2.000000   \n",
       "75%       48.000000   70000.000000    1428.000000     21.000000      3.000000   \n",
       "max       95.000000  120000.000000  102127.000000     31.000000     63.000000   \n",
       "\n",
       "              pdays      previous  \n",
       "count  45211.000000  45211.000000  \n",
       "mean      40.197828      0.580323  \n",
       "std      100.128746      2.303441  \n",
       "min       -1.000000      0.000000  \n",
       "25%       -1.000000      0.000000  \n",
       "50%       -1.000000      0.000000  \n",
       "75%       -1.000000      0.000000  \n",
       "max      871.000000    275.000000  "
      ]
     },
     "execution_count": 11,
     "metadata": {},
     "output_type": "execute_result"
    }
   ],
   "source": [
    "data1.describe()"
   ]
  },
  {
   "cell_type": "markdown",
   "id": "e4a4372f",
   "metadata": {},
   "source": [
    "#### Below conclusion can be done based on data summary:\n",
    "\n",
    "- Maximum age is 95 and minimum age is 18. \n",
    "\n",
    "\n",
    "- Maximum salary of customer is 120000 and minimum salary is 0.\n",
    "\n",
    "\n",
    "- Minimum account balance of customer is in negative and maximum balance is 102127.\n",
    "\n",
    "\n",
    "- Maximum number of contacts performed during this campaign for perticular customer is 63 and minimum contact is 1.\n",
    "\n",
    "\n",
    "- Maximum number of days that passed by after the client was last contacted from a previous campaign is 871.\n",
    "\n",
    "\n",
    "- Number of contacts performed before this campaign for customer maximum is 275 and minimum is 0.\n"
   ]
  },
  {
   "cell_type": "markdown",
   "id": "485d0260",
   "metadata": {},
   "source": [
    "## 3.2 Null Check"
   ]
  },
  {
   "cell_type": "code",
   "execution_count": 12,
   "id": "842bb065",
   "metadata": {},
   "outputs": [
    {
     "data": {
      "text/plain": [
       "age          20\n",
       "salary        0\n",
       "balance       0\n",
       "marital       0\n",
       "targeted      0\n",
       "default       0\n",
       "housing       0\n",
       "loan          0\n",
       "contact       0\n",
       "day           0\n",
       "month        50\n",
       "duration      0\n",
       "campaign      0\n",
       "pdays         0\n",
       "previous      0\n",
       "poutcome      0\n",
       "response     30\n",
       "job           0\n",
       "education     0\n",
       "dtype: int64"
      ]
     },
     "execution_count": 12,
     "metadata": {},
     "output_type": "execute_result"
    }
   ],
   "source": [
    "data1.isnull().sum()"
   ]
  },
  {
   "cell_type": "markdown",
   "id": "1487acbd",
   "metadata": {},
   "source": [
    "- As we can see three columns (age, month, response) contain missing values.\n",
    "\n",
    "- We can handle missing values by dropping the missing records or by imputing the values.\n",
    "\n",
    "#### If missing values present in the data\n",
    "- First Outlier Treatment and then Missing Data Imputation because the outliers will also influence the missing data algorithms in a negative manner."
   ]
  },
  {
   "cell_type": "markdown",
   "id": "133af6d6",
   "metadata": {},
   "source": [
    "## 3.3 Handling Outliers"
   ]
  },
  {
   "cell_type": "markdown",
   "id": "34314e03",
   "metadata": {},
   "source": [
    "There are two type of outliers\n",
    "\n",
    "Univariate Outliers: Univariate outliers are the data points whose values lie beyond the range of expected values based on one variable.\n",
    "\n",
    "Multivariate Outliers: While ploting data, some values of one variable may not the beyond the expected range, but when you plot the datawith some other variable, these values may be lie far from the expected value."
   ]
  },
  {
   "cell_type": "markdown",
   "id": "21c05db8",
   "metadata": {},
   "source": [
    "### Outliers for age"
   ]
  },
  {
   "cell_type": "code",
   "execution_count": 13,
   "id": "d7ba4b33",
   "metadata": {},
   "outputs": [
    {
     "data": {
      "text/plain": [
       "day          0.093079\n",
       "salary       0.137829\n",
       "age          0.685001\n",
       "pdays        2.615715\n",
       "campaign     4.898650\n",
       "balance      8.360308\n",
       "previous    41.846454\n",
       "dtype: float64"
      ]
     },
     "execution_count": 13,
     "metadata": {},
     "output_type": "execute_result"
    }
   ],
   "source": [
    "## check the skewness of the data\n",
    "data1.skew().sort_values()"
   ]
  },
  {
   "cell_type": "code",
   "execution_count": 14,
   "id": "bfa4fa37",
   "metadata": {},
   "outputs": [
    {
     "data": {
      "text/plain": [
       "<AxesSubplot:xlabel='age', ylabel='Density'>"
      ]
     },
     "execution_count": 14,
     "metadata": {},
     "output_type": "execute_result"
    },
    {
     "data": {
      "image/png": "[encoded data removed]",
      "text/plain": [
       "<Figure size 432x288 with 1 Axes>"
      ]
     },
     "metadata": {},
     "output_type": "display_data"
    }
   ],
   "source": [
    "sns.kdeplot(data1['age'])"
   ]
  },
  {
   "cell_type": "code",
   "execution_count": 15,
   "id": "4bd03729",
   "metadata": {},
   "outputs": [
    {
     "data": {
      "image/png": "[encoded data removed]",
      "text/plain": [
       "<Figure size 432x288 with 1 Axes>"
      ]
     },
     "metadata": {},
     "output_type": "display_data"
    }
   ],
   "source": [
    "sns.boxplot(x=data1['age'])\n",
    "plt.title('age Outlier Check')\n",
    "plt.show()"
   ]
  },
  {
   "cell_type": "code",
   "execution_count": 16,
   "id": "1214b684",
   "metadata": {},
   "outputs": [],
   "source": [
    "Qntl1 = data1['age'].quantile(0.25)  ## 25% of the customers have age less than Qntl1\n",
    "Qntl3 = data1['age'].quantile(0.75)  ## 75% of the customers have age less than Qntl3\n",
    "IQR = Qntl3 - Qntl1\n",
    "lw= Qntl1 - 1.5* IQR\n",
    "up = Qntl3 + 1.5* IQR"
   ]
  },
  {
   "cell_type": "code",
   "execution_count": 17,
   "id": "fe5358b4",
   "metadata": {},
   "outputs": [
    {
     "name": "stdout",
     "output_type": "stream",
     "text": [
      "Outlier percentage in Age: 1.0771714848156422\n"
     ]
    }
   ],
   "source": [
    "print(\"Outlier percentage in Age:\",((data1[data1['age']>up].shape[0]+ data1[data1['age']<lw].shape[0])/data1.shape[0])*100)"
   ]
  },
  {
   "cell_type": "markdown",
   "id": "ebfe70b1",
   "metadata": {},
   "source": [
    "- In this dataset age outliers percentage is almost 1%. So we can replace this data by upper bound limit."
   ]
  },
  {
   "cell_type": "code",
   "execution_count": 18,
   "id": "e1c06fda",
   "metadata": {},
   "outputs": [],
   "source": [
    "## customers age more than upper bound are replaced with upper bound age\n",
    "data1['age'] = np.where(data1['age']> up, up, data1['age'])\n",
    "## customers age less than lower bound are replaced with lower bound age\n",
    "data1['age'] = np.where(data1['age']< lw, lw, data1['age'])"
   ]
  },
  {
   "cell_type": "code",
   "execution_count": 19,
   "id": "99ef67d2",
   "metadata": {},
   "outputs": [
    {
     "name": "stdout",
     "output_type": "stream",
     "text": [
      "10.5 70.5\n"
     ]
    },
    {
     "data": {
      "image/png": "[encoded data removed]",
      "text/plain": [
       "<Figure size 432x288 with 1 Axes>"
      ]
     },
     "metadata": {},
     "output_type": "display_data"
    }
   ],
   "source": [
    "# After outliers imputation \n",
    "print(lw, up)\n",
    "sns.boxplot(x=data1['age'])\n",
    "plt.title('Plot after Outlier imputation')\n",
    "plt.show()"
   ]
  },
  {
   "cell_type": "markdown",
   "id": "195fd3f3",
   "metadata": {},
   "source": [
    "- By the analyzing of age column, we found that minimum age of customers is 18 and maximum age is 95.\n",
    "\n",
    "\n",
    "- We replace maximum  age by upper bound of age (70.5), age between 18 to 70.5 is valid range to target customer for loan."
   ]
  },
  {
   "cell_type": "markdown",
   "id": "5a3b7ed9",
   "metadata": {},
   "source": [
    "### Outliers for salary"
   ]
  },
  {
   "cell_type": "code",
   "execution_count": 20,
   "id": "a69285a7",
   "metadata": {},
   "outputs": [
    {
     "data": {
      "image/png": "[encoded data removed]",
      "text/plain": [
       "<Figure size 432x288 with 1 Axes>"
      ]
     },
     "metadata": {},
     "output_type": "display_data"
    }
   ],
   "source": [
    "sns.boxplot(x=data1['salary'])\n",
    "plt.title('Salary Outlier Check')\n",
    "plt.show()"
   ]
  },
  {
   "cell_type": "markdown",
   "id": "94c01ef5",
   "metadata": {},
   "source": [
    "- By the analyzing above graph, we can find that salary column does not have any outliers.\n",
    "\n",
    "\n",
    "- Maximum salary of customer is 120000 and minimum salary is 0."
   ]
  },
  {
   "cell_type": "markdown",
   "id": "0f2e30f2",
   "metadata": {},
   "source": [
    "### Outliers for balance¶"
   ]
  },
  {
   "cell_type": "code",
   "execution_count": 21,
   "id": "a122c700",
   "metadata": {},
   "outputs": [
    {
     "data": {
      "text/plain": [
       "<AxesSubplot:xlabel='balance', ylabel='Density'>"
      ]
     },
     "execution_count": 21,
     "metadata": {},
     "output_type": "execute_result"
    },
    {
     "data": {
      "image/png": "[encoded data removed]",
      "text/plain": [
       "<Figure size 432x288 with 1 Axes>"
      ]
     },
     "metadata": {},
     "output_type": "display_data"
    }
   ],
   "source": [
    "sns.kdeplot(data1['balance'])"
   ]
  },
  {
   "cell_type": "code",
   "execution_count": 22,
   "id": "de4fd10b",
   "metadata": {},
   "outputs": [
    {
     "name": "stdout",
     "output_type": "stream",
     "text": [
      "Maximum balance: 102127\n",
      "Minimum balance:d -8019\n",
      "Negative balance:  0.08329831235761209\n"
     ]
    }
   ],
   "source": [
    "print(\"Maximum balance:\" ,data1['balance'].max())\n",
    "print(\"Minimum balance:d\" ,data1['balance'].min())\n",
    "print(\"Negative balance: \", len(data1[data1['balance']<0])/len(data1))"
   ]
  },
  {
   "cell_type": "markdown",
   "id": "ee22b356",
   "metadata": {},
   "source": [
    "- By the analyzing of balance column, we find that minimum account balance of customers is -8019 and maximum balance is 102127. And this is valid range so, balance column does not have outliers.\n",
    "\n",
    "\n",
    "- Almost 8% customers have negative balance is an indicator that some customers have a loan account."
   ]
  },
  {
   "cell_type": "markdown",
   "id": "d2bcb275",
   "metadata": {},
   "source": [
    "### Outliers for campaign"
   ]
  },
  {
   "cell_type": "code",
   "execution_count": 23,
   "id": "2733b61e",
   "metadata": {},
   "outputs": [
    {
     "data": {
      "text/plain": [
       "<AxesSubplot:xlabel='campaign', ylabel='Density'>"
      ]
     },
     "execution_count": 23,
     "metadata": {},
     "output_type": "execute_result"
    },
    {
     "data": {
      "image/png": "[encoded data removed]",
      "text/plain": [
       "<Figure size 432x288 with 1 Axes>"
      ]
     },
     "metadata": {},
     "output_type": "display_data"
    }
   ],
   "source": [
    "sns.kdeplot(data1['campaign'])"
   ]
  },
  {
   "cell_type": "code",
   "execution_count": 24,
   "id": "5de65e4b",
   "metadata": {},
   "outputs": [
    {
     "data": {
      "image/png": "[encoded data removed]",
      "text/plain": [
       "<Figure size 432x288 with 1 Axes>"
      ]
     },
     "metadata": {},
     "output_type": "display_data"
    }
   ],
   "source": [
    "sns.boxplot(x=data1['campaign'])\n",
    "plt.title('Campaign Outlier Check')\n",
    "plt.show()"
   ]
  },
  {
   "cell_type": "code",
   "execution_count": 25,
   "id": "b3223480",
   "metadata": {},
   "outputs": [],
   "source": [
    "Qntl1 = data1['campaign'].quantile(0.25)  \n",
    "Qntl3 = data1['campaign'].quantile(0.75)  \n",
    "IQR = Qntl3 - Qntl1\n",
    "lw = Qntl3 - 1.5* IQR\n",
    "up = Qntl3 + 1.5* IQR\n",
    "## customers campaign more than upper bound are replaced with upper bound campaign\n",
    "data1['campaign'] = np.where(data1['campaign']> up, up, data1['campaign'])\n"
   ]
  },
  {
   "cell_type": "code",
   "execution_count": 26,
   "id": "c0f9b7e8",
   "metadata": {},
   "outputs": [
    {
     "name": "stdout",
     "output_type": "stream",
     "text": [
      "0.0 6.0\n"
     ]
    },
    {
     "data": {
      "image/png": "[encoded data removed]",
      "text/plain": [
       "<Figure size 432x288 with 1 Axes>"
      ]
     },
     "metadata": {},
     "output_type": "display_data"
    }
   ],
   "source": [
    "# After outliers imputation \n",
    "print(lw, up)\n",
    "sns.boxplot(x=data1['campaign'])\n",
    "plt.title('Plot after Outlier imputation')\n",
    "plt.show()"
   ]
  },
  {
   "cell_type": "markdown",
   "id": "cc5bde67",
   "metadata": {},
   "source": [
    "- By the analyzing box plot, we can find that in this campaign contact a particular customer for maximum 6 time and minimum 0 time.\n"
   ]
  },
  {
   "cell_type": "markdown",
   "id": "f3f5ae56",
   "metadata": {},
   "source": [
    "### Outlier for pdays"
   ]
  },
  {
   "cell_type": "code",
   "execution_count": 27,
   "id": "de182c6b",
   "metadata": {},
   "outputs": [
    {
     "data": {
      "text/plain": [
       "<AxesSubplot:xlabel='pdays', ylabel='Density'>"
      ]
     },
     "execution_count": 27,
     "metadata": {},
     "output_type": "execute_result"
    },
    {
     "data": {
      "image/png": "[encoded data removed]",
      "text/plain": [
       "<Figure size 432x288 with 1 Axes>"
      ]
     },
     "metadata": {},
     "output_type": "display_data"
    }
   ],
   "source": [
    "sns.kdeplot(data1['pdays'])"
   ]
  },
  {
   "cell_type": "code",
   "execution_count": 28,
   "id": "37877bfd",
   "metadata": {},
   "outputs": [
    {
     "data": {
      "image/png": "[encoded data removed]",
      "text/plain": [
       "<Figure size 432x288 with 1 Axes>"
      ]
     },
     "metadata": {},
     "output_type": "display_data"
    }
   ],
   "source": [
    "sns.boxplot(x=data1['pdays'])\n",
    "plt.title('Campaign Outlier Check')\n",
    "plt.show()"
   ]
  },
  {
   "cell_type": "code",
   "execution_count": 29,
   "id": "6bf2a609",
   "metadata": {},
   "outputs": [
    {
     "name": "stdout",
     "output_type": "stream",
     "text": [
      "Maximum pdays: 871\n",
      "Minimum pdays: -1\n",
      "customer not contacted in perivious campaign: 0.8173674548229414\n"
     ]
    }
   ],
   "source": [
    "print(\"Maximum pdays:\" ,data1['pdays'].max())\n",
    "print(\"Minimum pdays:\" ,data1['pdays'].min())\n",
    "print(\"customer not contacted in perivious campaign:\", len(data1[data1['pdays']== -1])/ len(data1))"
   ]
  },
  {
   "cell_type": "markdown",
   "id": "2bf5344d",
   "metadata": {},
   "source": [
    "- By analyzing the pdays data, we find that a large number of customers 81% not contacted previously by bank.\n",
    "\n",
    "\n",
    "- We consider, number of days that passed by after the client was last contacted from a previous campaign has no outliers because pdays range does not affect our current campaign.\n",
    "\n"
   ]
  },
  {
   "cell_type": "markdown",
   "id": "c6287225",
   "metadata": {},
   "source": [
    "### Outlier for Previous"
   ]
  },
  {
   "cell_type": "code",
   "execution_count": 30,
   "id": "f9676182",
   "metadata": {
    "scrolled": true
   },
   "outputs": [
    {
     "data": {
      "text/plain": [
       "<AxesSubplot:xlabel='previous', ylabel='Density'>"
      ]
     },
     "execution_count": 30,
     "metadata": {},
     "output_type": "execute_result"
    },
    {
     "data": {
      "image/png": "[encoded data removed]",
      "text/plain": [
       "<Figure size 432x288 with 1 Axes>"
      ]
     },
     "metadata": {},
     "output_type": "display_data"
    }
   ],
   "source": [
    "sns.kdeplot(data1['previous'])"
   ]
  },
  {
   "cell_type": "code",
   "execution_count": 31,
   "id": "89aae0fd",
   "metadata": {
    "scrolled": true
   },
   "outputs": [
    {
     "data": {
      "image/png": "[encoded data removed]",
      "text/plain": [
       "<Figure size 432x288 with 1 Axes>"
      ]
     },
     "metadata": {},
     "output_type": "display_data"
    }
   ],
   "source": [
    "sns.boxplot(x=data1['previous'])\n",
    "plt.title('Previous Outlier Check')\n",
    "plt.show()"
   ]
  },
  {
   "cell_type": "code",
   "execution_count": 32,
   "id": "0f353fa1",
   "metadata": {},
   "outputs": [
    {
     "name": "stdout",
     "output_type": "stream",
     "text": [
      "max: 275\n",
      "previously not contected customer: 0.8173674548229414\n"
     ]
    }
   ],
   "source": [
    "print(\"max:\" ,data1['previous'].max())\n",
    "print(\"previously not contected customer:\", len(data1[data1['previous']==0])/len(data1))"
   ]
  },
  {
   "cell_type": "code",
   "execution_count": 33,
   "id": "e2628cf7",
   "metadata": {},
   "outputs": [],
   "source": [
    "## customers previous contact more than upper bound are replaced with upper bound balance\n",
    "data1['previous'] = np.where(data1['previous']>30, 30, data1['previous'])"
   ]
  },
  {
   "cell_type": "code",
   "execution_count": 34,
   "id": "0345b66d",
   "metadata": {},
   "outputs": [
    {
     "data": {
      "image/png": "[encoded data removed]",
      "text/plain": [
       "<Figure size 432x288 with 1 Axes>"
      ]
     },
     "metadata": {},
     "output_type": "display_data"
    }
   ],
   "source": [
    "# After outliers imputation \n",
    "sns.boxplot(x=data1['previous'])\n",
    "plt.title('Plot after Outlier imputation')\n",
    "plt.show()"
   ]
  },
  {
   "cell_type": "markdown",
   "id": "ab941bfd",
   "metadata": {},
   "source": [
    "- By analyzing the previous data, we find that number of contacts performed before this campaign for particular customer was very low. \n",
    "\n",
    "\n",
    "- Almost 81% customers were not previously contacted for loan.\n"
   ]
  },
  {
   "cell_type": "markdown",
   "id": "13d62bef",
   "metadata": {},
   "source": [
    "## 3.4 Missing value imputation"
   ]
  },
  {
   "cell_type": "code",
   "execution_count": 35,
   "id": "502439d8",
   "metadata": {},
   "outputs": [
    {
     "data": {
      "text/plain": [
       "age          20\n",
       "salary        0\n",
       "balance       0\n",
       "marital       0\n",
       "targeted      0\n",
       "default       0\n",
       "housing       0\n",
       "loan          0\n",
       "contact       0\n",
       "day           0\n",
       "month        50\n",
       "duration      0\n",
       "campaign      0\n",
       "pdays         0\n",
       "previous      0\n",
       "poutcome      0\n",
       "response     30\n",
       "job           0\n",
       "education     0\n",
       "dtype: int64"
      ]
     },
     "execution_count": 35,
     "metadata": {},
     "output_type": "execute_result"
    }
   ],
   "source": [
    "# Check null values in the data \n",
    "data1.isnull().sum()"
   ]
  },
  {
   "cell_type": "code",
   "execution_count": 36,
   "id": "0e9f0c7b",
   "metadata": {},
   "outputs": [],
   "source": [
    "# Drop response missing values \n",
    "data2= data1[~data1['response'].isnull()]"
   ]
  },
  {
   "cell_type": "markdown",
   "id": "a914da8e",
   "metadata": {},
   "source": [
    "Here we deleting the missing values from response column because response column is our targeted variable and if we impute the values in target column it’ll affect our analysis. So, it is better to drop the missing values from Response Column.\n"
   ]
  },
  {
   "cell_type": "code",
   "execution_count": 37,
   "id": "f1aa4280",
   "metadata": {},
   "outputs": [
    {
     "name": "stdout",
     "output_type": "stream",
     "text": [
      "may, 2017\n"
     ]
    }
   ],
   "source": [
    "# Find the mode of month in data\n",
    "month_mode = data2.month.mode()[0]\n",
    "print(month_mode)\n",
    "\n",
    "# Replacing missing values in month column by Mode\n",
    "data2.month.fillna(month_mode, inplace = True)"
   ]
  },
  {
   "cell_type": "code",
   "execution_count": 38,
   "id": "2420cfab",
   "metadata": {},
   "outputs": [
    {
     "name": "stdout",
     "output_type": "stream",
     "text": [
      "39.0\n"
     ]
    }
   ],
   "source": [
    "# Find the median of age in data\n",
    "age_median= data2.age.median()\n",
    "print(age_median)\n",
    "\n",
    "# Replacing missing values in age by Median\n",
    "data2.age.fillna(age_median, inplace= True)"
   ]
  },
  {
   "cell_type": "code",
   "execution_count": 39,
   "id": "4662bbc2",
   "metadata": {},
   "outputs": [
    {
     "data": {
      "text/plain": [
       "0"
      ]
     },
     "execution_count": 39,
     "metadata": {},
     "output_type": "execute_result"
    }
   ],
   "source": [
    "# After imputation of missing values\n",
    "data2.isnull().sum().sum()"
   ]
  },
  {
   "cell_type": "markdown",
   "id": "7ccfc208",
   "metadata": {},
   "source": [
    "### Descriptive Statistics (after missing values imputation)"
   ]
  },
  {
   "cell_type": "code",
   "execution_count": 40,
   "id": "8acf534a",
   "metadata": {},
   "outputs": [
    {
     "data": {
      "text/html": [
       "<div>\n",
       "<style scoped>\n",
       "    .dataframe tbody tr th:only-of-type {\n",
       "        vertical-align: middle;\n",
       "    }\n",
       "\n",
       "    .dataframe tbody tr th {\n",
       "        vertical-align: top;\n",
       "    }\n",
       "\n",
       "    .dataframe thead th {\n",
       "        text-align: right;\n",
       "    }\n",
       "</style>\n",
       "<table border=\"1\" class=\"dataframe\">\n",
       "  <thead>\n",
       "    <tr style=\"text-align: right;\">\n",
       "      <th></th>\n",
       "      <th>age</th>\n",
       "      <th>salary</th>\n",
       "      <th>balance</th>\n",
       "      <th>day</th>\n",
       "      <th>campaign</th>\n",
       "      <th>pdays</th>\n",
       "      <th>previous</th>\n",
       "    </tr>\n",
       "  </thead>\n",
       "  <tbody>\n",
       "    <tr>\n",
       "      <th>count</th>\n",
       "      <td>45181.000000</td>\n",
       "      <td>45181.000000</td>\n",
       "      <td>45181.000000</td>\n",
       "      <td>45181.000000</td>\n",
       "      <td>45181.000000</td>\n",
       "      <td>45181.000000</td>\n",
       "      <td>45181.000000</td>\n",
       "    </tr>\n",
       "    <tr>\n",
       "      <th>mean</th>\n",
       "      <td>40.866836</td>\n",
       "      <td>57005.046369</td>\n",
       "      <td>1362.689936</td>\n",
       "      <td>15.807153</td>\n",
       "      <td>2.392067</td>\n",
       "      <td>40.198601</td>\n",
       "      <td>0.572010</td>\n",
       "    </tr>\n",
       "    <tr>\n",
       "      <th>std</th>\n",
       "      <td>10.392443</td>\n",
       "      <td>32089.163369</td>\n",
       "      <td>3045.584521</td>\n",
       "      <td>8.322919</td>\n",
       "      <td>1.600028</td>\n",
       "      <td>100.134050</td>\n",
       "      <td>1.853982</td>\n",
       "    </tr>\n",
       "    <tr>\n",
       "      <th>min</th>\n",
       "      <td>18.000000</td>\n",
       "      <td>0.000000</td>\n",
       "      <td>-8019.000000</td>\n",
       "      <td>1.000000</td>\n",
       "      <td>1.000000</td>\n",
       "      <td>-1.000000</td>\n",
       "      <td>0.000000</td>\n",
       "    </tr>\n",
       "    <tr>\n",
       "      <th>25%</th>\n",
       "      <td>33.000000</td>\n",
       "      <td>20000.000000</td>\n",
       "      <td>72.000000</td>\n",
       "      <td>8.000000</td>\n",
       "      <td>1.000000</td>\n",
       "      <td>-1.000000</td>\n",
       "      <td>0.000000</td>\n",
       "    </tr>\n",
       "    <tr>\n",
       "      <th>50%</th>\n",
       "      <td>39.000000</td>\n",
       "      <td>60000.000000</td>\n",
       "      <td>448.000000</td>\n",
       "      <td>16.000000</td>\n",
       "      <td>2.000000</td>\n",
       "      <td>-1.000000</td>\n",
       "      <td>0.000000</td>\n",
       "    </tr>\n",
       "    <tr>\n",
       "      <th>75%</th>\n",
       "      <td>48.000000</td>\n",
       "      <td>70000.000000</td>\n",
       "      <td>1428.000000</td>\n",
       "      <td>21.000000</td>\n",
       "      <td>3.000000</td>\n",
       "      <td>-1.000000</td>\n",
       "      <td>0.000000</td>\n",
       "    </tr>\n",
       "    <tr>\n",
       "      <th>max</th>\n",
       "      <td>70.500000</td>\n",
       "      <td>120000.000000</td>\n",
       "      <td>102127.000000</td>\n",
       "      <td>31.000000</td>\n",
       "      <td>6.000000</td>\n",
       "      <td>871.000000</td>\n",
       "      <td>30.000000</td>\n",
       "    </tr>\n",
       "  </tbody>\n",
       "</table>\n",
       "</div>"
      ],
      "text/plain": [
       "                age         salary        balance           day      campaign  \\\n",
       "count  45181.000000   45181.000000   45181.000000  45181.000000  45181.000000   \n",
       "mean      40.866836   57005.046369    1362.689936     15.807153      2.392067   \n",
       "std       10.392443   32089.163369    3045.584521      8.322919      1.600028   \n",
       "min       18.000000       0.000000   -8019.000000      1.000000      1.000000   \n",
       "25%       33.000000   20000.000000      72.000000      8.000000      1.000000   \n",
       "50%       39.000000   60000.000000     448.000000     16.000000      2.000000   \n",
       "75%       48.000000   70000.000000    1428.000000     21.000000      3.000000   \n",
       "max       70.500000  120000.000000  102127.000000     31.000000      6.000000   \n",
       "\n",
       "              pdays      previous  \n",
       "count  45181.000000  45181.000000  \n",
       "mean      40.198601      0.572010  \n",
       "std      100.134050      1.853982  \n",
       "min       -1.000000      0.000000  \n",
       "25%       -1.000000      0.000000  \n",
       "50%       -1.000000      0.000000  \n",
       "75%       -1.000000      0.000000  \n",
       "max      871.000000     30.000000  "
      ]
     },
     "execution_count": 40,
     "metadata": {},
     "output_type": "execute_result"
    }
   ],
   "source": [
    "data2.describe()"
   ]
  },
  {
   "cell_type": "markdown",
   "id": "858ae1c8",
   "metadata": {},
   "source": [
    "### Below conclusion can be done based on data summary:\n",
    "- Maximum age is 70.5 and minimum age is 18.\n",
    " \n",
    "- Maximum salary of customer is 120000 and minimum salary is 0.\n",
    "\n",
    "- Minimum account balance of customer is in negative; it means some accounts are loan account and maximum balance is 102127.\n",
    "\n",
    "- Maximum number of contacts performed during this campaign for particular customer is 6 and minimum contact is 1.\n",
    "\n",
    "- Maximum number of days that passed by after the client was last contacted from a previous campaign is 871 and minimum days is -1, it means some customers are not contacted previously.\n",
    "\n",
    "- A large number of customers were not contacted in previous campaign and maximum time contact a customer is 275.\n"
   ]
  },
  {
   "cell_type": "markdown",
   "id": "1b785b22",
   "metadata": {},
   "source": [
    "## 3.5 Univariate Analysis "
   ]
  },
  {
   "cell_type": "markdown",
   "id": "35ed991f",
   "metadata": {},
   "source": [
    "Univariate, in which we analyze date of just one variable. A variable in our dataset refers to a single feature/column."
   ]
  },
  {
   "cell_type": "markdown",
   "id": "4d37ba38",
   "metadata": {},
   "source": [
    "### Analysis of response record of customers"
   ]
  },
  {
   "cell_type": "code",
   "execution_count": 41,
   "id": "cacff0e4",
   "metadata": {
    "scrolled": true
   },
   "outputs": [
    {
     "name": "stdout",
     "output_type": "stream",
     "text": [
      "no     39894\n",
      "yes     5287\n",
      "Name: response, dtype: int64\n",
      "Yes Response percentage: 0.117\n"
     ]
    },
    {
     "data": {
      "image/png": "[encoded data removed]",
      "text/plain": [
       "<Figure size 432x288 with 1 Axes>"
      ]
     },
     "metadata": {},
     "output_type": "display_data"
    }
   ],
   "source": [
    "# count of response of customer\n",
    "response_counts = data2['response'].value_counts()\n",
    "print(response_counts)\n",
    "print(\"Yes Response percentage:\", np.round(data2[data2['response']=='yes'].shape[0]/data2.shape[0],3))\n",
    "\n",
    "# plot of customer response \n",
    "sns.countplot(data2.response)\n",
    "plt.show()"
   ]
  },
  {
   "cell_type": "markdown",
   "id": "ab152f4b",
   "metadata": {},
   "source": [
    "- By analyzing the figure above, we can see that maximum response of customers is negative. It means our previous campaign was not that much effective. \n",
    "\n",
    "\n",
    "- Customers response for \"yes\" is around 11.7%.\n",
    "\n"
   ]
  },
  {
   "cell_type": "markdown",
   "id": "bc6b5a86",
   "metadata": {},
   "source": [
    "### Analysis last contact month of year"
   ]
  },
  {
   "cell_type": "code",
   "execution_count": 42,
   "id": "97d868bb",
   "metadata": {},
   "outputs": [
    {
     "name": "stdout",
     "output_type": "stream",
     "text": [
      "may, 2017    13788\n",
      "jul, 2017     6886\n",
      "aug, 2017     6235\n",
      "jun, 2017     5329\n",
      "nov, 2017     3963\n",
      "apr, 2017     2929\n",
      "feb, 2017     2645\n",
      "jan, 2017     1402\n",
      "oct, 2017      738\n",
      "sep, 2017      576\n",
      "mar, 2017      476\n",
      "dec, 2017      214\n",
      "Name: month, dtype: int64\n"
     ]
    },
    {
     "data": {
      "image/png": "[encoded data removed]",
      "text/plain": [
       "<Figure size 432x288 with 1 Axes>"
      ]
     },
     "metadata": {},
     "output_type": "display_data"
    }
   ],
   "source": [
    "data3= data2.sort_values(['month'])\n",
    "month_counts = data3['month'].value_counts()\n",
    "print(month_counts)\n",
    "\n",
    "# plot\n",
    "sns.countplot(x='month', data= data3)\n",
    "plt.xticks(rotation=90)\n",
    "plt.show()"
   ]
  },
  {
   "cell_type": "markdown",
   "id": "1a898ac2",
   "metadata": {},
   "source": [
    "- By analyzing above figure, we can see that maximum customers were contacted (13788) in month of \"may\" and minimum contacted (214) in month of \"dec\". It means our previous campaign was most active during summer time."
   ]
  },
  {
   "cell_type": "markdown",
   "id": "af7713e1",
   "metadata": {},
   "source": [
    "### Communication Types"
   ]
  },
  {
   "cell_type": "code",
   "execution_count": 43,
   "id": "a7c8971f",
   "metadata": {},
   "outputs": [
    {
     "name": "stdout",
     "output_type": "stream",
     "text": [
      "cellular     29267\n",
      "unknown      13010\n",
      "telephone     2904\n",
      "Name: contact, dtype: int64\n"
     ]
    },
    {
     "data": {
      "image/png": "[encoded data removed]",
      "text/plain": [
       "<Figure size 432x288 with 1 Axes>"
      ]
     },
     "metadata": {},
     "output_type": "display_data"
    }
   ],
   "source": [
    "contact_counts = data2['contact'].value_counts()\n",
    "print(contact_counts)\n",
    "\n",
    "# plot\n",
    "sns.countplot(x='contact', data= data2)\n",
    "plt.show()"
   ]
  },
  {
   "cell_type": "markdown",
   "id": "98b15b4a",
   "metadata": {},
   "source": [
    "- \tMaximum customer prefers communication via cellular (29267) and minimum communication via telephone (2904)."
   ]
  },
  {
   "cell_type": "markdown",
   "id": "a5269d0a",
   "metadata": {},
   "source": [
    "### Analysis of marital status of customers"
   ]
  },
  {
   "cell_type": "code",
   "execution_count": 44,
   "id": "eab3a38b",
   "metadata": {},
   "outputs": [
    {
     "name": "stdout",
     "output_type": "stream",
     "text": [
      "married     27195\n",
      "single      12782\n",
      "divorced     5204\n",
      "Name: marital, dtype: int64\n"
     ]
    },
    {
     "data": {
      "image/png": "[encoded data removed]",
      "text/plain": [
       "<Figure size 432x288 with 1 Axes>"
      ]
     },
     "metadata": {},
     "output_type": "display_data"
    }
   ],
   "source": [
    "# count of marital status of customer\n",
    "marital_counts = data2['marital'].value_counts()\n",
    "print(marital_counts) \n",
    "\n",
    "plt.pie(data2['marital'].value_counts(), labels=data2['marital'].unique(), autopct='%1.2f%%')\n",
    "plt.show()"
   ]
  },
  {
   "cell_type": "markdown",
   "id": "faa56369",
   "metadata": {},
   "source": [
    "- By analyzing the figure above, we can see that customer marital status has three categories (Single, Divorced, Married).\n",
    "\n",
    "\n",
    "- Married customers are maximum (60.19%) and minimum customers are divorced (11.25%)."
   ]
  },
  {
   "cell_type": "markdown",
   "id": "8b6c62a2",
   "metadata": {},
   "source": [
    "### Housing loan"
   ]
  },
  {
   "cell_type": "code",
   "execution_count": 45,
   "id": "ef3ed6c6",
   "metadata": {},
   "outputs": [
    {
     "name": "stdout",
     "output_type": "stream",
     "text": [
      "yes    25112\n",
      "no     20069\n",
      "Name: housing, dtype: int64\n",
      "yes precentage for house loan: 0.556\n"
     ]
    },
    {
     "data": {
      "text/plain": [
       "<AxesSubplot:xlabel='housing', ylabel='count'>"
      ]
     },
     "execution_count": 45,
     "metadata": {},
     "output_type": "execute_result"
    },
    {
     "data": {
      "image/png": "[encoded data removed]",
      "text/plain": [
       "<Figure size 432x288 with 1 Axes>"
      ]
     },
     "metadata": {},
     "output_type": "display_data"
    }
   ],
   "source": [
    "housing_loan_counts = data2['housing'].value_counts()\n",
    "print(housing_loan_counts )\n",
    "print(\"yes precentage for house loan:\", np.round(data2[data2['housing']=='yes'].shape[0]/data2.shape[0],3))\n",
    "sns.countplot(x='housing',data=data2)"
   ]
  },
  {
   "cell_type": "markdown",
   "id": "2b218320",
   "metadata": {},
   "source": [
    "- The positive response of customers for housing loan around 55%."
   ]
  },
  {
   "cell_type": "markdown",
   "id": "92940839",
   "metadata": {},
   "source": [
    "### Loan"
   ]
  },
  {
   "cell_type": "code",
   "execution_count": 46,
   "id": "9322759a",
   "metadata": {},
   "outputs": [
    {
     "name": "stdout",
     "output_type": "stream",
     "text": [
      "no     37943\n",
      "yes     7238\n",
      "Name: loan, dtype: int64\n",
      "yes precentage for loan: 0.16\n"
     ]
    },
    {
     "data": {
      "text/plain": [
       "<AxesSubplot:xlabel='loan', ylabel='count'>"
      ]
     },
     "execution_count": 46,
     "metadata": {},
     "output_type": "execute_result"
    },
    {
     "data": {
      "image/png": "[encoded data removed]",
      "text/plain": [
       "<Figure size 432x288 with 1 Axes>"
      ]
     },
     "metadata": {},
     "output_type": "display_data"
    }
   ],
   "source": [
    "loan_counts = data2['loan'].value_counts()\n",
    "print(loan_counts )\n",
    "print(\"yes precentage for loan:\", np.round(data2[data2['loan']=='yes'].shape[0]/data2.shape[0],3))\n",
    "sns.countplot(x='loan',data=data2)"
   ]
  },
  {
   "cell_type": "markdown",
   "id": "bca6dde1",
   "metadata": {},
   "source": [
    "- Most of customers response \"no\" for personal loan and \"yes\" response percentage is 16%."
   ]
  },
  {
   "cell_type": "markdown",
   "id": "57ce8d0d",
   "metadata": {},
   "source": [
    "### Analysis of type of jobs of customers"
   ]
  },
  {
   "cell_type": "code",
   "execution_count": 47,
   "id": "ebe1912e",
   "metadata": {},
   "outputs": [
    {
     "name": "stdout",
     "output_type": "stream",
     "text": [
      "blue-collar      9727\n",
      "management       9454\n",
      "technician       7592\n",
      "admin.           5166\n",
      "services         4150\n",
      "retired          2263\n",
      "self-employed    1575\n",
      "entrepreneur     1486\n",
      "unemployed       1303\n",
      "housemaid        1239\n",
      "student           938\n",
      "unknown           288\n",
      "Name: job, dtype: int64\n"
     ]
    },
    {
     "data": {
      "text/plain": [
       "<AxesSubplot:title={'center':'Job types of customers'}>"
      ]
     },
     "execution_count": 47,
     "metadata": {},
     "output_type": "execute_result"
    },
    {
     "data": {
      "image/png": "[encoded data removed]",
      "text/plain": [
       "<Figure size 1152x648 with 1 Axes>"
      ]
     },
     "metadata": {},
     "output_type": "display_data"
    }
   ],
   "source": [
    "# count of job types of customer\n",
    "job_counts = data2['job'].value_counts()\n",
    "print(job_counts)\n",
    "# Bar plot\n",
    "plt.subplot(221)\n",
    "data2['job'].value_counts().plot(kind='bar', title='Job types of customers',figsize=(16,9))"
   ]
  },
  {
   "cell_type": "markdown",
   "id": "fb2f7e82",
   "metadata": {},
   "source": [
    "- Maximum customers have blue-coller jobs (9727) and some part of jobs types is unknown(288).\n"
   ]
  },
  {
   "cell_type": "markdown",
   "id": "8790e4e2",
   "metadata": {},
   "source": [
    "### Analysis of Poutcome"
   ]
  },
  {
   "cell_type": "code",
   "execution_count": 48,
   "id": "e2b18e01",
   "metadata": {},
   "outputs": [
    {
     "name": "stdout",
     "output_type": "stream",
     "text": [
      "unknown    36935\n",
      "failure     4897\n",
      "other       1839\n",
      "success     1510\n",
      "Name: poutcome, dtype: int64\n"
     ]
    },
    {
     "data": {
      "image/png": "[encoded data removed]",
      "text/plain": [
       "<Figure size 432x288 with 1 Axes>"
      ]
     },
     "metadata": {},
     "output_type": "display_data"
    }
   ],
   "source": [
    "# count of previously targeted customer\n",
    "poutcome_counts = data2['poutcome'].value_counts()\n",
    "print(poutcome_counts) \n",
    "\n",
    "plt.pie(data2['poutcome'].value_counts(), labels=data2['poutcome'].unique(), autopct='%1.2f%%')\n",
    "plt.show()"
   ]
  },
  {
   "cell_type": "markdown",
   "id": "021b1f68",
   "metadata": {},
   "source": [
    "- By analyzing above graph, we find that outcome of the previous marketing campaign was not pretty good. As we can see that success rate is 3.34% which is very low.\n",
    "\n",
    "\n",
    "- Almost 81.75% outcome is unknown and 10.84% campaign outcome is failure and 4.07% outcome goes for another category."
   ]
  },
  {
   "cell_type": "markdown",
   "id": "a070d552",
   "metadata": {},
   "source": [
    "### Analysis of Default credit"
   ]
  },
  {
   "cell_type": "code",
   "execution_count": 49,
   "id": "61cb7408",
   "metadata": {},
   "outputs": [
    {
     "name": "stdout",
     "output_type": "stream",
     "text": [
      "no     44366\n",
      "yes      815\n",
      "Name: default, dtype: int64\n"
     ]
    },
    {
     "data": {
      "text/plain": [
       "<AxesSubplot:xlabel='default', ylabel='count'>"
      ]
     },
     "execution_count": 49,
     "metadata": {},
     "output_type": "execute_result"
    },
    {
     "data": {
      "image/png": "[encoded data removed]",
      "text/plain": [
       "<Figure size 432x288 with 1 Axes>"
      ]
     },
     "metadata": {},
     "output_type": "display_data"
    }
   ],
   "source": [
    "# count of job types of customer\n",
    "job_counts = data2['default'].value_counts()\n",
    "print(job_counts)\n",
    "sns.countplot(x='default',data=data2)"
   ]
  },
  {
   "cell_type": "markdown",
   "id": "0ea704fc",
   "metadata": {},
   "source": [
    "- The count for default loan is less."
   ]
  },
  {
   "cell_type": "markdown",
   "id": "b641df61",
   "metadata": {},
   "source": [
    "\n",
    "###  Analysis of customers education"
   ]
  },
  {
   "cell_type": "code",
   "execution_count": 50,
   "id": "8c8cc570",
   "metadata": {},
   "outputs": [
    {
     "name": "stdout",
     "output_type": "stream",
     "text": [
      "secondary    23189\n",
      "tertiary     13292\n",
      "primary       6844\n",
      "unknown       1856\n",
      "Name: education, dtype: int64\n"
     ]
    },
    {
     "data": {
      "image/png": "[encoded data removed]",
      "text/plain": [
       "<Figure size 432x288 with 1 Axes>"
      ]
     },
     "metadata": {},
     "output_type": "display_data"
    }
   ],
   "source": [
    "# count of education type of customers\n",
    "education_counts = data2['education'].value_counts()\n",
    "print(education_counts)\n",
    "# plot of customer eduaction type\n",
    "sns.countplot(data2.education)\n",
    "plt.show()"
   ]
  },
  {
   "cell_type": "markdown",
   "id": "aeb57c9d",
   "metadata": {},
   "source": [
    "- Maximum customers (23189) belong to secondary education category and some count of education type is unknown (1856).\n",
    "\n",
    "\n",
    "- Education type count decrease from secondary to primary.\n"
   ]
  },
  {
   "cell_type": "markdown",
   "id": "50c4ff2b",
   "metadata": {},
   "source": [
    "### Distribution plots of numeric columns¶"
   ]
  },
  {
   "cell_type": "code",
   "execution_count": 51,
   "id": "8907ada1",
   "metadata": {},
   "outputs": [
    {
     "data": {
      "image/png": "[encoded data removed]",
      "text/plain": [
       "<Figure size 1440x1152 with 9 Axes>"
      ]
     },
     "metadata": {
      "needs_background": "light"
     },
     "output_type": "display_data"
    }
   ],
   "source": [
    "%matplotlib inline\n",
    "data2.hist(bins = 50, figsize=(20,16), color = 'blue') \n",
    "plt.show()"
   ]
  },
  {
   "cell_type": "markdown",
   "id": "6de019e1",
   "metadata": {},
   "source": [
    "## 3.6 Bivariate Analysis"
   ]
  },
  {
   "cell_type": "markdown",
   "id": "342d2443",
   "metadata": {},
   "source": [
    "### Comparision of job, education, marital and contact data with target variable \"response\""
   ]
  },
  {
   "cell_type": "code",
   "execution_count": 52,
   "id": "0def3180",
   "metadata": {},
   "outputs": [
    {
     "data": {
      "image/png": "[encoded data removed]",
      "text/plain": [
       "<Figure size 432x432 with 1 Axes>"
      ]
     },
     "metadata": {
      "needs_background": "light"
     },
     "output_type": "display_data"
    },
    {
     "data": {
      "image/png": "[encoded data removed]",
      "text/plain": [
       "<Figure size 432x432 with 1 Axes>"
      ]
     },
     "metadata": {
      "needs_background": "light"
     },
     "output_type": "display_data"
    },
    {
     "data": {
      "image/png": "[encoded data removed]",
      "text/plain": [
       "<Figure size 432x432 with 1 Axes>"
      ]
     },
     "metadata": {
      "needs_background": "light"
     },
     "output_type": "display_data"
    },
    {
     "data": {
      "image/png": "[encoded data removed]",
      "text/plain": [
       "<Figure size 432x432 with 1 Axes>"
      ]
     },
     "metadata": {
      "needs_background": "light"
     },
     "output_type": "display_data"
    }
   ],
   "source": [
    "# job vs response \n",
    "pd.crosstab(data2.job,data2.response).plot(kind=\"bar\",figsize=(6,6),color=['black','blue'])\n",
    "plt.title('Job Distribution')\n",
    "plt.ylabel('Frequency')\n",
    "# education vs response\n",
    "pd.crosstab(data2.education,data2.response).plot(kind=\"bar\",figsize=(6,6),color=['black','blue'])\n",
    "plt.title('Education Distribution')\n",
    "plt.ylabel('Frequency')\n",
    "# marital vs response\n",
    "pd.crosstab(data2.marital,data2.response).plot(kind=\"bar\",figsize=(6,6),color=['black','blue'])\n",
    "plt.title('Marital status Distribution')\n",
    "plt.ylabel('Frequency')\n",
    "# contact vs response\n",
    "pd.crosstab(data2.contact,data2.response).plot(kind=\"bar\",figsize=(6,6),color=['black','blue'])\n",
    "plt.title('Communication type Distribution')\n",
    "plt.ylabel('Frequency')\n",
    "\n",
    "plt.show()"
   ]
  },
  {
   "cell_type": "markdown",
   "id": "fd78076d",
   "metadata": {},
   "source": [
    "### Comparision of housing loan, loan and default data with target variable \"response\""
   ]
  },
  {
   "cell_type": "code",
   "execution_count": 53,
   "id": "c5969ebb",
   "metadata": {
    "scrolled": false
   },
   "outputs": [
    {
     "data": {
      "text/plain": [
       "Text(0, 0.5, 'Frequency')"
      ]
     },
     "execution_count": 53,
     "metadata": {},
     "output_type": "execute_result"
    },
    {
     "data": {
      "image/png": "[encoded data removed]",
      "text/plain": [
       "<Figure size 432x432 with 1 Axes>"
      ]
     },
     "metadata": {
      "needs_background": "light"
     },
     "output_type": "display_data"
    },
    {
     "data": {
      "image/png": "[encoded data removed]",
      "text/plain": [
       "<Figure size 432x432 with 1 Axes>"
      ]
     },
     "metadata": {
      "needs_background": "light"
     },
     "output_type": "display_data"
    },
    {
     "data": {
      "image/png": "[encoded data removed]",
      "text/plain": [
       "<Figure size 432x432 with 1 Axes>"
      ]
     },
     "metadata": {
      "needs_background": "light"
     },
     "output_type": "display_data"
    }
   ],
   "source": [
    "# housing vs response\n",
    "pd.crosstab(data2.housing,data2.response).plot(kind=\"bar\",figsize=(6,6),color=['black','blue'])\n",
    "plt.title('House loan Distribution')\n",
    "plt.ylabel('Frequency')\n",
    "# loan vs response\n",
    "pd.crosstab(data2.loan,data2.response).plot(kind=\"bar\",figsize=(6,6),color=['black','blue'])\n",
    "plt.title('Loan Distribution')\n",
    "plt.ylabel('Frequency')\n",
    "# default vs response\n",
    "pd.crosstab(data2.default,data2.response).plot(kind=\"bar\",figsize=(6,6),color=['black','blue'])\n",
    "plt.title('Default loan Distribution')\n",
    "plt.ylabel('Frequency')"
   ]
  },
  {
   "cell_type": "markdown",
   "id": "bedb5b97",
   "metadata": {},
   "source": [
    "- Default customers not targeted for further loan. "
   ]
  },
  {
   "cell_type": "code",
   "execution_count": 54,
   "id": "22eaaa55",
   "metadata": {},
   "outputs": [
    {
     "data": {
      "text/plain": [
       "Text(0, 0.5, 'Frequency')"
      ]
     },
     "execution_count": 54,
     "metadata": {},
     "output_type": "execute_result"
    },
    {
     "data": {
      "image/png": "[encoded data removed]",
      "text/plain": [
       "<Figure size 576x432 with 1 Axes>"
      ]
     },
     "metadata": {
      "needs_background": "light"
     },
     "output_type": "display_data"
    },
    {
     "data": {
      "image/png": "[encoded data removed]",
      "text/plain": [
       "<Figure size 576x432 with 1 Axes>"
      ]
     },
     "metadata": {
      "needs_background": "light"
     },
     "output_type": "display_data"
    },
    {
     "data": {
      "image/png": "[encoded data removed]",
      "text/plain": [
       "<Figure size 576x432 with 1 Axes>"
      ]
     },
     "metadata": {
      "needs_background": "light"
     },
     "output_type": "display_data"
    }
   ],
   "source": [
    "# campaign vs response\n",
    "pd.crosstab(data2.campaign,data2.response).plot(kind=\"bar\",figsize=(8,6),color=['black','blue'])\n",
    "plt.title('Campaign Distribution')\n",
    "plt.ylabel('Frequency')\n",
    "# poutcome vs response\n",
    "pd.crosstab(data2.poutcome,data2.response).plot(kind=\"bar\",figsize=(8,6),color=['black','blue'])\n",
    "plt.title('poutcome Distribution')\n",
    "plt.ylabel('Frequency')\n",
    "# month vs response\n",
    "pd.crosstab(data2.month,data2.response).plot(kind=\"bar\",figsize=(8,6),color=['black','blue'])\n",
    "plt.title('Month Distribution')\n",
    "plt.ylabel('Frequency')"
   ]
  },
  {
   "cell_type": "code",
   "execution_count": 55,
   "id": "f0c2f713",
   "metadata": {},
   "outputs": [
    {
     "name": "stdout",
     "output_type": "stream",
     "text": [
      "Yes response percentage for may month:  6.745\n",
      "Yes response percentage for march month:  51.8908\n",
      "Yes response percentage for october month:  43.7669\n",
      "Yes response percentage for september month:  46.5278\n",
      "Yes response percentage for august month:  11.0345\n"
     ]
    }
   ],
   "source": [
    "a1 = data2[(data2['month']=='may, 2017')]['response'].value_counts()\n",
    "print(\"Yes response percentage for may month: \", np.round((a1['yes']/(a1['yes']+a1['no']))*100,4))\n",
    "\n",
    "a1 = data2[(data2['month']=='mar, 2017')]['response'].value_counts()\n",
    "print(\"Yes response percentage for march month: \", np.round((a1['yes']/(a1['yes']+a1['no']))*100,4))\n",
    "\n",
    "a1 = data2[(data2['month']=='oct, 2017')]['response'].value_counts()\n",
    "print(\"Yes response percentage for october month: \", np.round((a1['yes']/(a1['yes']+a1['no']))*100,4))\n",
    "\n",
    "a1 = data2[(data2['month']=='sep, 2017')]['response'].value_counts()\n",
    "print(\"Yes response percentage for september month: \", np.round((a1['yes']/(a1['yes']+a1['no']))*100,4))\n",
    "\n",
    "a1 = data2[(data2['month']=='aug, 2017')]['response'].value_counts()\n",
    "print(\"Yes response percentage for august month: \", np.round((a1['yes']/(a1['yes']+a1['no']))*100,4))\n",
    "\n"
   ]
  },
  {
   "cell_type": "markdown",
   "id": "183e6f46",
   "metadata": {},
   "source": [
    "### Comparision of call duration with target variable \"response\""
   ]
  },
  {
   "cell_type": "code",
   "execution_count": 56,
   "id": "f11a4a61",
   "metadata": {},
   "outputs": [
    {
     "data": {
      "text/html": [
       "<div>\n",
       "<style scoped>\n",
       "    .dataframe tbody tr th:only-of-type {\n",
       "        vertical-align: middle;\n",
       "    }\n",
       "\n",
       "    .dataframe tbody tr th {\n",
       "        vertical-align: top;\n",
       "    }\n",
       "\n",
       "    .dataframe thead th {\n",
       "        text-align: right;\n",
       "    }\n",
       "</style>\n",
       "<table border=\"1\" class=\"dataframe\">\n",
       "  <thead>\n",
       "    <tr style=\"text-align: right;\">\n",
       "      <th></th>\n",
       "      <th>age</th>\n",
       "      <th>salary</th>\n",
       "      <th>balance</th>\n",
       "      <th>marital</th>\n",
       "      <th>targeted</th>\n",
       "      <th>default</th>\n",
       "      <th>housing</th>\n",
       "      <th>loan</th>\n",
       "      <th>contact</th>\n",
       "      <th>day</th>\n",
       "      <th>month</th>\n",
       "      <th>duration</th>\n",
       "      <th>campaign</th>\n",
       "      <th>pdays</th>\n",
       "      <th>previous</th>\n",
       "      <th>poutcome</th>\n",
       "      <th>response</th>\n",
       "      <th>job</th>\n",
       "      <th>education</th>\n",
       "    </tr>\n",
       "  </thead>\n",
       "  <tbody>\n",
       "    <tr>\n",
       "      <th>4647</th>\n",
       "      <td>39.0</td>\n",
       "      <td>100000</td>\n",
       "      <td>351</td>\n",
       "      <td>married</td>\n",
       "      <td>yes</td>\n",
       "      <td>no</td>\n",
       "      <td>yes</td>\n",
       "      <td>no</td>\n",
       "      <td>unknown</td>\n",
       "      <td>20</td>\n",
       "      <td>may, 2017</td>\n",
       "      <td>999 sec</td>\n",
       "      <td>3.0</td>\n",
       "      <td>-1</td>\n",
       "      <td>0</td>\n",
       "      <td>unknown</td>\n",
       "      <td>no</td>\n",
       "      <td>management</td>\n",
       "      <td>tertiary</td>\n",
       "    </tr>\n",
       "    <tr>\n",
       "      <th>13731</th>\n",
       "      <td>26.0</td>\n",
       "      <td>20000</td>\n",
       "      <td>-29</td>\n",
       "      <td>single</td>\n",
       "      <td>yes</td>\n",
       "      <td>no</td>\n",
       "      <td>yes</td>\n",
       "      <td>no</td>\n",
       "      <td>cellular</td>\n",
       "      <td>10</td>\n",
       "      <td>jul, 2017</td>\n",
       "      <td>998 sec</td>\n",
       "      <td>4.0</td>\n",
       "      <td>-1</td>\n",
       "      <td>0</td>\n",
       "      <td>unknown</td>\n",
       "      <td>yes</td>\n",
       "      <td>blue-collar</td>\n",
       "      <td>secondary</td>\n",
       "    </tr>\n",
       "    <tr>\n",
       "      <th>3484</th>\n",
       "      <td>48.0</td>\n",
       "      <td>120000</td>\n",
       "      <td>981</td>\n",
       "      <td>married</td>\n",
       "      <td>yes</td>\n",
       "      <td>no</td>\n",
       "      <td>yes</td>\n",
       "      <td>no</td>\n",
       "      <td>unknown</td>\n",
       "      <td>15</td>\n",
       "      <td>may, 2017</td>\n",
       "      <td>995 sec</td>\n",
       "      <td>2.0</td>\n",
       "      <td>-1</td>\n",
       "      <td>0</td>\n",
       "      <td>unknown</td>\n",
       "      <td>no</td>\n",
       "      <td>entrepreneur</td>\n",
       "      <td>tertiary</td>\n",
       "    </tr>\n",
       "    <tr>\n",
       "      <th>10380</th>\n",
       "      <td>47.0</td>\n",
       "      <td>16000</td>\n",
       "      <td>3727</td>\n",
       "      <td>single</td>\n",
       "      <td>no</td>\n",
       "      <td>no</td>\n",
       "      <td>no</td>\n",
       "      <td>no</td>\n",
       "      <td>unknown</td>\n",
       "      <td>12</td>\n",
       "      <td>jun, 2017</td>\n",
       "      <td>993 sec</td>\n",
       "      <td>6.0</td>\n",
       "      <td>-1</td>\n",
       "      <td>0</td>\n",
       "      <td>unknown</td>\n",
       "      <td>yes</td>\n",
       "      <td>housemaid</td>\n",
       "      <td>tertiary</td>\n",
       "    </tr>\n",
       "    <tr>\n",
       "      <th>13467</th>\n",
       "      <td>58.0</td>\n",
       "      <td>120000</td>\n",
       "      <td>776</td>\n",
       "      <td>married</td>\n",
       "      <td>yes</td>\n",
       "      <td>no</td>\n",
       "      <td>yes</td>\n",
       "      <td>no</td>\n",
       "      <td>telephone</td>\n",
       "      <td>9</td>\n",
       "      <td>jul, 2017</td>\n",
       "      <td>990 sec</td>\n",
       "      <td>1.0</td>\n",
       "      <td>-1</td>\n",
       "      <td>0</td>\n",
       "      <td>unknown</td>\n",
       "      <td>yes</td>\n",
       "      <td>entrepreneur</td>\n",
       "      <td>tertiary</td>\n",
       "    </tr>\n",
       "  </tbody>\n",
       "</table>\n",
       "</div>"
      ],
      "text/plain": [
       "        age  salary  balance  marital targeted default housing loan  \\\n",
       "4647   39.0  100000      351  married      yes      no     yes   no   \n",
       "13731  26.0   20000      -29   single      yes      no     yes   no   \n",
       "3484   48.0  120000      981  married      yes      no     yes   no   \n",
       "10380  47.0   16000     3727   single       no      no      no   no   \n",
       "13467  58.0  120000      776  married      yes      no     yes   no   \n",
       "\n",
       "         contact  day      month duration  campaign  pdays  previous poutcome  \\\n",
       "4647     unknown   20  may, 2017  999 sec       3.0     -1         0  unknown   \n",
       "13731   cellular   10  jul, 2017  998 sec       4.0     -1         0  unknown   \n",
       "3484     unknown   15  may, 2017  995 sec       2.0     -1         0  unknown   \n",
       "10380    unknown   12  jun, 2017  993 sec       6.0     -1         0  unknown   \n",
       "13467  telephone    9  jul, 2017  990 sec       1.0     -1         0  unknown   \n",
       "\n",
       "      response           job  education  \n",
       "4647        no    management   tertiary  \n",
       "13731      yes   blue-collar  secondary  \n",
       "3484        no  entrepreneur   tertiary  \n",
       "10380      yes     housemaid   tertiary  \n",
       "13467      yes  entrepreneur   tertiary  "
      ]
     },
     "execution_count": 56,
     "metadata": {},
     "output_type": "execute_result"
    }
   ],
   "source": [
    "data4 = data2.sort_values('duration', ascending=False)\n",
    "data4.head()"
   ]
  },
  {
   "cell_type": "code",
   "execution_count": 57,
   "id": "76160233",
   "metadata": {},
   "outputs": [
    {
     "data": {
      "text/html": [
       "<div>\n",
       "<style scoped>\n",
       "    .dataframe tbody tr th:only-of-type {\n",
       "        vertical-align: middle;\n",
       "    }\n",
       "\n",
       "    .dataframe tbody tr th {\n",
       "        vertical-align: top;\n",
       "    }\n",
       "\n",
       "    .dataframe thead th {\n",
       "        text-align: right;\n",
       "    }\n",
       "</style>\n",
       "<table border=\"1\" class=\"dataframe\">\n",
       "  <thead>\n",
       "    <tr style=\"text-align: right;\">\n",
       "      <th></th>\n",
       "      <th>age</th>\n",
       "      <th>salary</th>\n",
       "      <th>balance</th>\n",
       "      <th>marital</th>\n",
       "      <th>targeted</th>\n",
       "      <th>default</th>\n",
       "      <th>housing</th>\n",
       "      <th>loan</th>\n",
       "      <th>contact</th>\n",
       "      <th>day</th>\n",
       "      <th>month</th>\n",
       "      <th>duration</th>\n",
       "      <th>campaign</th>\n",
       "      <th>pdays</th>\n",
       "      <th>previous</th>\n",
       "      <th>poutcome</th>\n",
       "      <th>response</th>\n",
       "      <th>job</th>\n",
       "      <th>education</th>\n",
       "    </tr>\n",
       "  </thead>\n",
       "  <tbody>\n",
       "    <tr>\n",
       "      <th>39137</th>\n",
       "      <td>26.0</td>\n",
       "      <td>20000</td>\n",
       "      <td>-93</td>\n",
       "      <td>single</td>\n",
       "      <td>yes</td>\n",
       "      <td>no</td>\n",
       "      <td>yes</td>\n",
       "      <td>no</td>\n",
       "      <td>cellular</td>\n",
       "      <td>18</td>\n",
       "      <td>may, 2017</td>\n",
       "      <td>599.0</td>\n",
       "      <td>2.0</td>\n",
       "      <td>-1</td>\n",
       "      <td>0</td>\n",
       "      <td>unknown</td>\n",
       "      <td>no</td>\n",
       "      <td>blue-collar</td>\n",
       "      <td>secondary</td>\n",
       "    </tr>\n",
       "    <tr>\n",
       "      <th>15997</th>\n",
       "      <td>48.0</td>\n",
       "      <td>50000</td>\n",
       "      <td>-379</td>\n",
       "      <td>married</td>\n",
       "      <td>yes</td>\n",
       "      <td>no</td>\n",
       "      <td>yes</td>\n",
       "      <td>no</td>\n",
       "      <td>cellular</td>\n",
       "      <td>22</td>\n",
       "      <td>jul, 2017</td>\n",
       "      <td>599.0</td>\n",
       "      <td>2.0</td>\n",
       "      <td>-1</td>\n",
       "      <td>0</td>\n",
       "      <td>unknown</td>\n",
       "      <td>no</td>\n",
       "      <td>admin.</td>\n",
       "      <td>secondary</td>\n",
       "    </tr>\n",
       "    <tr>\n",
       "      <th>32930</th>\n",
       "      <td>34.0</td>\n",
       "      <td>20000</td>\n",
       "      <td>170</td>\n",
       "      <td>married</td>\n",
       "      <td>yes</td>\n",
       "      <td>no</td>\n",
       "      <td>yes</td>\n",
       "      <td>yes</td>\n",
       "      <td>telephone</td>\n",
       "      <td>17</td>\n",
       "      <td>apr, 2017</td>\n",
       "      <td>599.0</td>\n",
       "      <td>4.0</td>\n",
       "      <td>275</td>\n",
       "      <td>7</td>\n",
       "      <td>other</td>\n",
       "      <td>no</td>\n",
       "      <td>blue-collar</td>\n",
       "      <td>primary</td>\n",
       "    </tr>\n",
       "    <tr>\n",
       "      <th>26132</th>\n",
       "      <td>37.0</td>\n",
       "      <td>60000</td>\n",
       "      <td>5287</td>\n",
       "      <td>married</td>\n",
       "      <td>yes</td>\n",
       "      <td>no</td>\n",
       "      <td>yes</td>\n",
       "      <td>yes</td>\n",
       "      <td>cellular</td>\n",
       "      <td>19</td>\n",
       "      <td>nov, 2017</td>\n",
       "      <td>599.0</td>\n",
       "      <td>4.0</td>\n",
       "      <td>100</td>\n",
       "      <td>2</td>\n",
       "      <td>failure</td>\n",
       "      <td>no</td>\n",
       "      <td>technician</td>\n",
       "      <td>secondary</td>\n",
       "    </tr>\n",
       "    <tr>\n",
       "      <th>32541</th>\n",
       "      <td>50.0</td>\n",
       "      <td>20000</td>\n",
       "      <td>181</td>\n",
       "      <td>married</td>\n",
       "      <td>yes</td>\n",
       "      <td>no</td>\n",
       "      <td>yes</td>\n",
       "      <td>no</td>\n",
       "      <td>cellular</td>\n",
       "      <td>17</td>\n",
       "      <td>apr, 2017</td>\n",
       "      <td>599.0</td>\n",
       "      <td>2.0</td>\n",
       "      <td>-1</td>\n",
       "      <td>0</td>\n",
       "      <td>unknown</td>\n",
       "      <td>no</td>\n",
       "      <td>blue-collar</td>\n",
       "      <td>secondary</td>\n",
       "    </tr>\n",
       "  </tbody>\n",
       "</table>\n",
       "</div>"
      ],
      "text/plain": [
       "        age  salary  balance  marital targeted default housing loan  \\\n",
       "39137  26.0   20000      -93   single      yes      no     yes   no   \n",
       "15997  48.0   50000     -379  married      yes      no     yes   no   \n",
       "32930  34.0   20000      170  married      yes      no     yes  yes   \n",
       "26132  37.0   60000     5287  married      yes      no     yes  yes   \n",
       "32541  50.0   20000      181  married      yes      no     yes   no   \n",
       "\n",
       "         contact  day      month  duration  campaign  pdays  previous  \\\n",
       "39137   cellular   18  may, 2017     599.0       2.0     -1         0   \n",
       "15997   cellular   22  jul, 2017     599.0       2.0     -1         0   \n",
       "32930  telephone   17  apr, 2017     599.0       4.0    275         7   \n",
       "26132   cellular   19  nov, 2017     599.0       4.0    100         2   \n",
       "32541   cellular   17  apr, 2017     599.0       2.0     -1         0   \n",
       "\n",
       "      poutcome response          job  education  \n",
       "39137  unknown       no  blue-collar  secondary  \n",
       "15997  unknown       no       admin.  secondary  \n",
       "32930    other       no  blue-collar    primary  \n",
       "26132  failure       no   technician  secondary  \n",
       "32541  unknown       no  blue-collar  secondary  "
      ]
     },
     "execution_count": 57,
     "metadata": {},
     "output_type": "execute_result"
    }
   ],
   "source": [
    "temp1 = data4[data4['duration'].str.contains('min')]\n",
    "temp1['duration'] = temp1['duration'].replace(' min','', regex=True)\n",
    "temp1['duration'] = temp1['duration'].astype(float)\n",
    "temp1['duration'] = temp1['duration']*60\n",
    "temp1.head(5)"
   ]
  },
  {
   "cell_type": "code",
   "execution_count": 58,
   "id": "10746997",
   "metadata": {},
   "outputs": [
    {
     "data": {
      "text/html": [
       "<div>\n",
       "<style scoped>\n",
       "    .dataframe tbody tr th:only-of-type {\n",
       "        vertical-align: middle;\n",
       "    }\n",
       "\n",
       "    .dataframe tbody tr th {\n",
       "        vertical-align: top;\n",
       "    }\n",
       "\n",
       "    .dataframe thead th {\n",
       "        text-align: right;\n",
       "    }\n",
       "</style>\n",
       "<table border=\"1\" class=\"dataframe\">\n",
       "  <thead>\n",
       "    <tr style=\"text-align: right;\">\n",
       "      <th></th>\n",
       "      <th>age</th>\n",
       "      <th>salary</th>\n",
       "      <th>balance</th>\n",
       "      <th>marital</th>\n",
       "      <th>targeted</th>\n",
       "      <th>default</th>\n",
       "      <th>housing</th>\n",
       "      <th>loan</th>\n",
       "      <th>contact</th>\n",
       "      <th>day</th>\n",
       "      <th>month</th>\n",
       "      <th>duration</th>\n",
       "      <th>campaign</th>\n",
       "      <th>pdays</th>\n",
       "      <th>previous</th>\n",
       "      <th>poutcome</th>\n",
       "      <th>response</th>\n",
       "      <th>job</th>\n",
       "      <th>education</th>\n",
       "    </tr>\n",
       "  </thead>\n",
       "  <tbody>\n",
       "    <tr>\n",
       "      <th>4647</th>\n",
       "      <td>39.0</td>\n",
       "      <td>100000</td>\n",
       "      <td>351</td>\n",
       "      <td>married</td>\n",
       "      <td>yes</td>\n",
       "      <td>no</td>\n",
       "      <td>yes</td>\n",
       "      <td>no</td>\n",
       "      <td>unknown</td>\n",
       "      <td>20</td>\n",
       "      <td>may, 2017</td>\n",
       "      <td>999.0</td>\n",
       "      <td>3.0</td>\n",
       "      <td>-1</td>\n",
       "      <td>0</td>\n",
       "      <td>unknown</td>\n",
       "      <td>no</td>\n",
       "      <td>management</td>\n",
       "      <td>tertiary</td>\n",
       "    </tr>\n",
       "    <tr>\n",
       "      <th>13731</th>\n",
       "      <td>26.0</td>\n",
       "      <td>20000</td>\n",
       "      <td>-29</td>\n",
       "      <td>single</td>\n",
       "      <td>yes</td>\n",
       "      <td>no</td>\n",
       "      <td>yes</td>\n",
       "      <td>no</td>\n",
       "      <td>cellular</td>\n",
       "      <td>10</td>\n",
       "      <td>jul, 2017</td>\n",
       "      <td>998.0</td>\n",
       "      <td>4.0</td>\n",
       "      <td>-1</td>\n",
       "      <td>0</td>\n",
       "      <td>unknown</td>\n",
       "      <td>yes</td>\n",
       "      <td>blue-collar</td>\n",
       "      <td>secondary</td>\n",
       "    </tr>\n",
       "    <tr>\n",
       "      <th>3484</th>\n",
       "      <td>48.0</td>\n",
       "      <td>120000</td>\n",
       "      <td>981</td>\n",
       "      <td>married</td>\n",
       "      <td>yes</td>\n",
       "      <td>no</td>\n",
       "      <td>yes</td>\n",
       "      <td>no</td>\n",
       "      <td>unknown</td>\n",
       "      <td>15</td>\n",
       "      <td>may, 2017</td>\n",
       "      <td>995.0</td>\n",
       "      <td>2.0</td>\n",
       "      <td>-1</td>\n",
       "      <td>0</td>\n",
       "      <td>unknown</td>\n",
       "      <td>no</td>\n",
       "      <td>entrepreneur</td>\n",
       "      <td>tertiary</td>\n",
       "    </tr>\n",
       "    <tr>\n",
       "      <th>10380</th>\n",
       "      <td>47.0</td>\n",
       "      <td>16000</td>\n",
       "      <td>3727</td>\n",
       "      <td>single</td>\n",
       "      <td>no</td>\n",
       "      <td>no</td>\n",
       "      <td>no</td>\n",
       "      <td>no</td>\n",
       "      <td>unknown</td>\n",
       "      <td>12</td>\n",
       "      <td>jun, 2017</td>\n",
       "      <td>993.0</td>\n",
       "      <td>6.0</td>\n",
       "      <td>-1</td>\n",
       "      <td>0</td>\n",
       "      <td>unknown</td>\n",
       "      <td>yes</td>\n",
       "      <td>housemaid</td>\n",
       "      <td>tertiary</td>\n",
       "    </tr>\n",
       "    <tr>\n",
       "      <th>13467</th>\n",
       "      <td>58.0</td>\n",
       "      <td>120000</td>\n",
       "      <td>776</td>\n",
       "      <td>married</td>\n",
       "      <td>yes</td>\n",
       "      <td>no</td>\n",
       "      <td>yes</td>\n",
       "      <td>no</td>\n",
       "      <td>telephone</td>\n",
       "      <td>9</td>\n",
       "      <td>jul, 2017</td>\n",
       "      <td>990.0</td>\n",
       "      <td>1.0</td>\n",
       "      <td>-1</td>\n",
       "      <td>0</td>\n",
       "      <td>unknown</td>\n",
       "      <td>yes</td>\n",
       "      <td>entrepreneur</td>\n",
       "      <td>tertiary</td>\n",
       "    </tr>\n",
       "  </tbody>\n",
       "</table>\n",
       "</div>"
      ],
      "text/plain": [
       "        age  salary  balance  marital targeted default housing loan  \\\n",
       "4647   39.0  100000      351  married      yes      no     yes   no   \n",
       "13731  26.0   20000      -29   single      yes      no     yes   no   \n",
       "3484   48.0  120000      981  married      yes      no     yes   no   \n",
       "10380  47.0   16000     3727   single       no      no      no   no   \n",
       "13467  58.0  120000      776  married      yes      no     yes   no   \n",
       "\n",
       "         contact  day      month  duration  campaign  pdays  previous  \\\n",
       "4647     unknown   20  may, 2017     999.0       3.0     -1         0   \n",
       "13731   cellular   10  jul, 2017     998.0       4.0     -1         0   \n",
       "3484     unknown   15  may, 2017     995.0       2.0     -1         0   \n",
       "10380    unknown   12  jun, 2017     993.0       6.0     -1         0   \n",
       "13467  telephone    9  jul, 2017     990.0       1.0     -1         0   \n",
       "\n",
       "      poutcome response           job  education  \n",
       "4647   unknown       no    management   tertiary  \n",
       "13731  unknown      yes   blue-collar  secondary  \n",
       "3484   unknown       no  entrepreneur   tertiary  \n",
       "10380  unknown      yes     housemaid   tertiary  \n",
       "13467  unknown      yes  entrepreneur   tertiary  "
      ]
     },
     "execution_count": 58,
     "metadata": {},
     "output_type": "execute_result"
    }
   ],
   "source": [
    "temp2 = data4[data4['duration'].str.contains('sec')]\n",
    "temp2['duration'] = temp2['duration'].replace(' sec','', regex=True)\n",
    "temp2['duration'] = temp2['duration'].astype(float)\n",
    "temp2.head(5)"
   ]
  },
  {
   "cell_type": "code",
   "execution_count": 59,
   "id": "52669766",
   "metadata": {},
   "outputs": [
    {
     "data": {
      "text/plain": [
       "(45181, 19)"
      ]
     },
     "execution_count": 59,
     "metadata": {},
     "output_type": "execute_result"
    }
   ],
   "source": [
    "# concatination of duration column\n",
    "data2 = pd.concat([temp1, temp2])\n",
    "data2.reset_index(drop=True, inplace=True)\n",
    "data2.shape"
   ]
  },
  {
   "cell_type": "code",
   "execution_count": 60,
   "id": "389a8965",
   "metadata": {},
   "outputs": [
    {
     "data": {
      "text/html": [
       "<div>\n",
       "<style scoped>\n",
       "    .dataframe tbody tr th:only-of-type {\n",
       "        vertical-align: middle;\n",
       "    }\n",
       "\n",
       "    .dataframe tbody tr th {\n",
       "        vertical-align: top;\n",
       "    }\n",
       "\n",
       "    .dataframe thead th {\n",
       "        text-align: right;\n",
       "    }\n",
       "</style>\n",
       "<table border=\"1\" class=\"dataframe\">\n",
       "  <thead>\n",
       "    <tr style=\"text-align: right;\">\n",
       "      <th></th>\n",
       "      <th>age</th>\n",
       "      <th>salary</th>\n",
       "      <th>balance</th>\n",
       "      <th>marital</th>\n",
       "      <th>targeted</th>\n",
       "      <th>default</th>\n",
       "      <th>housing</th>\n",
       "      <th>loan</th>\n",
       "      <th>contact</th>\n",
       "      <th>day</th>\n",
       "      <th>month</th>\n",
       "      <th>duration</th>\n",
       "      <th>campaign</th>\n",
       "      <th>pdays</th>\n",
       "      <th>previous</th>\n",
       "      <th>poutcome</th>\n",
       "      <th>response</th>\n",
       "      <th>job</th>\n",
       "      <th>education</th>\n",
       "      <th>duration_bins_sec</th>\n",
       "    </tr>\n",
       "  </thead>\n",
       "  <tbody>\n",
       "    <tr>\n",
       "      <th>0</th>\n",
       "      <td>26.0</td>\n",
       "      <td>20000</td>\n",
       "      <td>-93</td>\n",
       "      <td>single</td>\n",
       "      <td>yes</td>\n",
       "      <td>no</td>\n",
       "      <td>yes</td>\n",
       "      <td>no</td>\n",
       "      <td>cellular</td>\n",
       "      <td>18</td>\n",
       "      <td>may, 2017</td>\n",
       "      <td>599.0</td>\n",
       "      <td>2.0</td>\n",
       "      <td>-1</td>\n",
       "      <td>0</td>\n",
       "      <td>unknown</td>\n",
       "      <td>no</td>\n",
       "      <td>blue-collar</td>\n",
       "      <td>secondary</td>\n",
       "      <td>(300, 600]</td>\n",
       "    </tr>\n",
       "    <tr>\n",
       "      <th>1</th>\n",
       "      <td>48.0</td>\n",
       "      <td>50000</td>\n",
       "      <td>-379</td>\n",
       "      <td>married</td>\n",
       "      <td>yes</td>\n",
       "      <td>no</td>\n",
       "      <td>yes</td>\n",
       "      <td>no</td>\n",
       "      <td>cellular</td>\n",
       "      <td>22</td>\n",
       "      <td>jul, 2017</td>\n",
       "      <td>599.0</td>\n",
       "      <td>2.0</td>\n",
       "      <td>-1</td>\n",
       "      <td>0</td>\n",
       "      <td>unknown</td>\n",
       "      <td>no</td>\n",
       "      <td>admin.</td>\n",
       "      <td>secondary</td>\n",
       "      <td>(300, 600]</td>\n",
       "    </tr>\n",
       "    <tr>\n",
       "      <th>2</th>\n",
       "      <td>34.0</td>\n",
       "      <td>20000</td>\n",
       "      <td>170</td>\n",
       "      <td>married</td>\n",
       "      <td>yes</td>\n",
       "      <td>no</td>\n",
       "      <td>yes</td>\n",
       "      <td>yes</td>\n",
       "      <td>telephone</td>\n",
       "      <td>17</td>\n",
       "      <td>apr, 2017</td>\n",
       "      <td>599.0</td>\n",
       "      <td>4.0</td>\n",
       "      <td>275</td>\n",
       "      <td>7</td>\n",
       "      <td>other</td>\n",
       "      <td>no</td>\n",
       "      <td>blue-collar</td>\n",
       "      <td>primary</td>\n",
       "      <td>(300, 600]</td>\n",
       "    </tr>\n",
       "    <tr>\n",
       "      <th>3</th>\n",
       "      <td>37.0</td>\n",
       "      <td>60000</td>\n",
       "      <td>5287</td>\n",
       "      <td>married</td>\n",
       "      <td>yes</td>\n",
       "      <td>no</td>\n",
       "      <td>yes</td>\n",
       "      <td>yes</td>\n",
       "      <td>cellular</td>\n",
       "      <td>19</td>\n",
       "      <td>nov, 2017</td>\n",
       "      <td>599.0</td>\n",
       "      <td>4.0</td>\n",
       "      <td>100</td>\n",
       "      <td>2</td>\n",
       "      <td>failure</td>\n",
       "      <td>no</td>\n",
       "      <td>technician</td>\n",
       "      <td>secondary</td>\n",
       "      <td>(300, 600]</td>\n",
       "    </tr>\n",
       "    <tr>\n",
       "      <th>4</th>\n",
       "      <td>50.0</td>\n",
       "      <td>20000</td>\n",
       "      <td>181</td>\n",
       "      <td>married</td>\n",
       "      <td>yes</td>\n",
       "      <td>no</td>\n",
       "      <td>yes</td>\n",
       "      <td>no</td>\n",
       "      <td>cellular</td>\n",
       "      <td>17</td>\n",
       "      <td>apr, 2017</td>\n",
       "      <td>599.0</td>\n",
       "      <td>2.0</td>\n",
       "      <td>-1</td>\n",
       "      <td>0</td>\n",
       "      <td>unknown</td>\n",
       "      <td>no</td>\n",
       "      <td>blue-collar</td>\n",
       "      <td>secondary</td>\n",
       "      <td>(300, 600]</td>\n",
       "    </tr>\n",
       "  </tbody>\n",
       "</table>\n",
       "</div>"
      ],
      "text/plain": [
       "    age  salary  balance  marital targeted default housing loan    contact  \\\n",
       "0  26.0   20000      -93   single      yes      no     yes   no   cellular   \n",
       "1  48.0   50000     -379  married      yes      no     yes   no   cellular   \n",
       "2  34.0   20000      170  married      yes      no     yes  yes  telephone   \n",
       "3  37.0   60000     5287  married      yes      no     yes  yes   cellular   \n",
       "4  50.0   20000      181  married      yes      no     yes   no   cellular   \n",
       "\n",
       "   day      month  duration  campaign  pdays  previous poutcome response  \\\n",
       "0   18  may, 2017     599.0       2.0     -1         0  unknown       no   \n",
       "1   22  jul, 2017     599.0       2.0     -1         0  unknown       no   \n",
       "2   17  apr, 2017     599.0       4.0    275         7    other       no   \n",
       "3   19  nov, 2017     599.0       4.0    100         2  failure       no   \n",
       "4   17  apr, 2017     599.0       2.0     -1         0  unknown       no   \n",
       "\n",
       "           job  education duration_bins_sec  \n",
       "0  blue-collar  secondary        (300, 600]  \n",
       "1       admin.  secondary        (300, 600]  \n",
       "2  blue-collar    primary        (300, 600]  \n",
       "3   technician  secondary        (300, 600]  \n",
       "4  blue-collar  secondary        (300, 600]  "
      ]
     },
     "execution_count": 60,
     "metadata": {},
     "output_type": "execute_result"
    }
   ],
   "source": [
    "# Create bins for duration\n",
    "data2['duration_bins_sec'] = pd.cut(x=data2['duration'], bins=[0,60,180,300,600,1200,4918])\n",
    "data2.head()"
   ]
  },
  {
   "cell_type": "code",
   "execution_count": 61,
   "id": "aa1520b4",
   "metadata": {},
   "outputs": [
    {
     "name": "stdout",
     "output_type": "stream",
     "text": [
      "Yes response percentage for 0-60 sec duration:  0.1934\n",
      "Yes response percentage for 60-180 sec duration:  3.8964\n",
      "Yes response percentage for 180-300 sec duration:  10.886\n",
      "Yes response percentage for 300-600 sec duration:  19.1354\n",
      "Yes response percentage for 600-1200 sec duration:  46.1061\n",
      "Yes response percentage for 1200 sec duration:  61.7857\n"
     ]
    }
   ],
   "source": [
    "a1 = data2[(data2['duration']>0)&(data2['duration']<60)]['response'].value_counts()\n",
    "print(\"Yes response percentage for 0-60 sec duration: \", np.round((a1['yes']/(a1['yes']+a1['no']))*100,4))\n",
    "a1 = data2[(data2['duration']>60)&(data2['duration']<180)]['response'].value_counts()\n",
    "print(\"Yes response percentage for 60-180 sec duration: \", np.round((a1['yes']/(a1['yes']+a1['no']))*100,4))\n",
    "a1 = data2[(data2['duration']>180)&(data2['duration']<300)]['response'].value_counts()\n",
    "print(\"Yes response percentage for 180-300 sec duration: \", np.round((a1['yes']/(a1['yes']+a1['no']))*100,4))\n",
    "a1 = data2[(data2['duration']>300)&(data2['duration']<600)]['response'].value_counts()\n",
    "print(\"Yes response percentage for 300-600 sec duration: \", np.round((a1['yes']/(a1['yes']+a1['no']))*100,4))\n",
    "a1 = data2[(data2['duration']>600)&(data2['duration']<1200)]['response'].value_counts()\n",
    "print(\"Yes response percentage for 600-1200 sec duration: \", np.round((a1['yes']/(a1['yes']+a1['no']))*100,4))\n",
    "a1 = data2[(data2['duration']>1200)]['response'].value_counts()\n",
    "print(\"Yes response percentage for 1200 sec duration: \", np.round((a1['yes']/(a1['yes']+a1['no']))*100,4))"
   ]
  },
  {
   "cell_type": "code",
   "execution_count": 62,
   "id": "7eeff9b5",
   "metadata": {},
   "outputs": [
    {
     "data": {
      "text/plain": [
       "Text(0, 0.5, 'Frequency')"
      ]
     },
     "execution_count": 62,
     "metadata": {},
     "output_type": "execute_result"
    },
    {
     "data": {
      "image/png": "[encoded data removed]",
      "text/plain": [
       "<Figure size 576x360 with 1 Axes>"
      ]
     },
     "metadata": {
      "needs_background": "light"
     },
     "output_type": "display_data"
    }
   ],
   "source": [
    "pd.crosstab(data2.duration_bins_sec,data2.response).plot(kind=\"bar\",figsize=(8,5),color=['black','blue'])\n",
    "plt.title('Customer call duration Distribution')\n",
    "plt.ylabel('Frequency')"
   ]
  },
  {
   "cell_type": "markdown",
   "id": "0db59336",
   "metadata": {},
   "source": [
    "### Comparision age of customers with target variable \"response\""
   ]
  },
  {
   "cell_type": "code",
   "execution_count": 63,
   "id": "9f0d5616",
   "metadata": {},
   "outputs": [
    {
     "data": {
      "text/html": [
       "<div>\n",
       "<style scoped>\n",
       "    .dataframe tbody tr th:only-of-type {\n",
       "        vertical-align: middle;\n",
       "    }\n",
       "\n",
       "    .dataframe tbody tr th {\n",
       "        vertical-align: top;\n",
       "    }\n",
       "\n",
       "    .dataframe thead th {\n",
       "        text-align: right;\n",
       "    }\n",
       "</style>\n",
       "<table border=\"1\" class=\"dataframe\">\n",
       "  <thead>\n",
       "    <tr style=\"text-align: right;\">\n",
       "      <th></th>\n",
       "      <th>age</th>\n",
       "      <th>salary</th>\n",
       "      <th>balance</th>\n",
       "      <th>marital</th>\n",
       "      <th>targeted</th>\n",
       "      <th>default</th>\n",
       "      <th>housing</th>\n",
       "      <th>loan</th>\n",
       "      <th>contact</th>\n",
       "      <th>day</th>\n",
       "      <th>...</th>\n",
       "      <th>campaign</th>\n",
       "      <th>pdays</th>\n",
       "      <th>previous</th>\n",
       "      <th>poutcome</th>\n",
       "      <th>response</th>\n",
       "      <th>job</th>\n",
       "      <th>education</th>\n",
       "      <th>duration_bins_sec</th>\n",
       "      <th>age_bins</th>\n",
       "      <th>age_by_decad</th>\n",
       "    </tr>\n",
       "  </thead>\n",
       "  <tbody>\n",
       "    <tr>\n",
       "      <th>0</th>\n",
       "      <td>26.0</td>\n",
       "      <td>20000</td>\n",
       "      <td>-93</td>\n",
       "      <td>single</td>\n",
       "      <td>yes</td>\n",
       "      <td>no</td>\n",
       "      <td>yes</td>\n",
       "      <td>no</td>\n",
       "      <td>cellular</td>\n",
       "      <td>18</td>\n",
       "      <td>...</td>\n",
       "      <td>2.0</td>\n",
       "      <td>-1</td>\n",
       "      <td>0</td>\n",
       "      <td>unknown</td>\n",
       "      <td>no</td>\n",
       "      <td>blue-collar</td>\n",
       "      <td>secondary</td>\n",
       "      <td>(300, 600]</td>\n",
       "      <td>(18.0, 30.0]</td>\n",
       "      <td>30s</td>\n",
       "    </tr>\n",
       "    <tr>\n",
       "      <th>1</th>\n",
       "      <td>48.0</td>\n",
       "      <td>50000</td>\n",
       "      <td>-379</td>\n",
       "      <td>married</td>\n",
       "      <td>yes</td>\n",
       "      <td>no</td>\n",
       "      <td>yes</td>\n",
       "      <td>no</td>\n",
       "      <td>cellular</td>\n",
       "      <td>22</td>\n",
       "      <td>...</td>\n",
       "      <td>2.0</td>\n",
       "      <td>-1</td>\n",
       "      <td>0</td>\n",
       "      <td>unknown</td>\n",
       "      <td>no</td>\n",
       "      <td>admin.</td>\n",
       "      <td>secondary</td>\n",
       "      <td>(300, 600]</td>\n",
       "      <td>(40.0, 50.0]</td>\n",
       "      <td>50s</td>\n",
       "    </tr>\n",
       "    <tr>\n",
       "      <th>2</th>\n",
       "      <td>34.0</td>\n",
       "      <td>20000</td>\n",
       "      <td>170</td>\n",
       "      <td>married</td>\n",
       "      <td>yes</td>\n",
       "      <td>no</td>\n",
       "      <td>yes</td>\n",
       "      <td>yes</td>\n",
       "      <td>telephone</td>\n",
       "      <td>17</td>\n",
       "      <td>...</td>\n",
       "      <td>4.0</td>\n",
       "      <td>275</td>\n",
       "      <td>7</td>\n",
       "      <td>other</td>\n",
       "      <td>no</td>\n",
       "      <td>blue-collar</td>\n",
       "      <td>primary</td>\n",
       "      <td>(300, 600]</td>\n",
       "      <td>(30.0, 40.0]</td>\n",
       "      <td>40s</td>\n",
       "    </tr>\n",
       "    <tr>\n",
       "      <th>3</th>\n",
       "      <td>37.0</td>\n",
       "      <td>60000</td>\n",
       "      <td>5287</td>\n",
       "      <td>married</td>\n",
       "      <td>yes</td>\n",
       "      <td>no</td>\n",
       "      <td>yes</td>\n",
       "      <td>yes</td>\n",
       "      <td>cellular</td>\n",
       "      <td>19</td>\n",
       "      <td>...</td>\n",
       "      <td>4.0</td>\n",
       "      <td>100</td>\n",
       "      <td>2</td>\n",
       "      <td>failure</td>\n",
       "      <td>no</td>\n",
       "      <td>technician</td>\n",
       "      <td>secondary</td>\n",
       "      <td>(300, 600]</td>\n",
       "      <td>(30.0, 40.0]</td>\n",
       "      <td>40s</td>\n",
       "    </tr>\n",
       "    <tr>\n",
       "      <th>4</th>\n",
       "      <td>50.0</td>\n",
       "      <td>20000</td>\n",
       "      <td>181</td>\n",
       "      <td>married</td>\n",
       "      <td>yes</td>\n",
       "      <td>no</td>\n",
       "      <td>yes</td>\n",
       "      <td>no</td>\n",
       "      <td>cellular</td>\n",
       "      <td>17</td>\n",
       "      <td>...</td>\n",
       "      <td>2.0</td>\n",
       "      <td>-1</td>\n",
       "      <td>0</td>\n",
       "      <td>unknown</td>\n",
       "      <td>no</td>\n",
       "      <td>blue-collar</td>\n",
       "      <td>secondary</td>\n",
       "      <td>(300, 600]</td>\n",
       "      <td>(40.0, 50.0]</td>\n",
       "      <td>50s</td>\n",
       "    </tr>\n",
       "  </tbody>\n",
       "</table>\n",
       "<p>5 rows × 22 columns</p>\n",
       "</div>"
      ],
      "text/plain": [
       "    age  salary  balance  marital targeted default housing loan    contact  \\\n",
       "0  26.0   20000      -93   single      yes      no     yes   no   cellular   \n",
       "1  48.0   50000     -379  married      yes      no     yes   no   cellular   \n",
       "2  34.0   20000      170  married      yes      no     yes  yes  telephone   \n",
       "3  37.0   60000     5287  married      yes      no     yes  yes   cellular   \n",
       "4  50.0   20000      181  married      yes      no     yes   no   cellular   \n",
       "\n",
       "   day  ... campaign  pdays  previous  poutcome  response          job  \\\n",
       "0   18  ...      2.0     -1         0   unknown        no  blue-collar   \n",
       "1   22  ...      2.0     -1         0   unknown        no       admin.   \n",
       "2   17  ...      4.0    275         7     other        no  blue-collar   \n",
       "3   19  ...      4.0    100         2   failure        no   technician   \n",
       "4   17  ...      2.0     -1         0   unknown        no  blue-collar   \n",
       "\n",
       "   education duration_bins_sec      age_bins age_by_decad  \n",
       "0  secondary        (300, 600]  (18.0, 30.0]          30s  \n",
       "1  secondary        (300, 600]  (40.0, 50.0]          50s  \n",
       "2    primary        (300, 600]  (30.0, 40.0]          40s  \n",
       "3  secondary        (300, 600]  (30.0, 40.0]          40s  \n",
       "4  secondary        (300, 600]  (40.0, 50.0]          50s  \n",
       "\n",
       "[5 rows x 22 columns]"
      ]
     },
     "execution_count": 63,
     "metadata": {},
     "output_type": "execute_result"
    }
   ],
   "source": [
    "# Create bins for age column\n",
    "data2['age_bins']=pd.cut(x=data2['age'], bins=[18,30,40,50,70.5])\n",
    "data2['age_by_decad'] = pd.cut(x=data2['age'], bins=[18,30,40,50,70.5], labels=['30s', '40s', '50s','70s'])\n",
    "data2.head()"
   ]
  },
  {
   "cell_type": "code",
   "execution_count": 64,
   "id": "7add7f81",
   "metadata": {},
   "outputs": [
    {
     "data": {
      "text/plain": [
       "Text(0, 0.5, 'Frequency')"
      ]
     },
     "execution_count": 64,
     "metadata": {},
     "output_type": "execute_result"
    },
    {
     "data": {
      "image/png": "[encoded data removed]",
      "text/plain": [
       "<Figure size 576x360 with 1 Axes>"
      ]
     },
     "metadata": {
      "needs_background": "light"
     },
     "output_type": "display_data"
    }
   ],
   "source": [
    "pd.crosstab(data2.age_by_decad,data2.response).plot(kind=\"bar\",figsize=(8,5),color=['black','blue'])\n",
    "plt.title('Customer age Distribution')\n",
    "plt.ylabel('Frequency')"
   ]
  },
  {
   "cell_type": "code",
   "execution_count": 65,
   "id": "47d32c9a",
   "metadata": {},
   "outputs": [
    {
     "name": "stdout",
     "output_type": "stream",
     "text": [
      "Yes response percentage for 18-30 age:  17.5005\n",
      "Yes response percentage for 30-40 age:  10.3932\n",
      "Yes response percentage for 40-50 age:  9.2013\n",
      "Yes response percentage for 50-70.5 age:  12.4829\n"
     ]
    }
   ],
   "source": [
    "a1 = data2[(data2['age']>18)&(data2['age']<30)]['response'].value_counts()\n",
    "print(\"Yes response percentage for 18-30 age: \", np.round((a1['yes']/(a1['yes']+a1['no']))*100,4))\n",
    "a1 = data2[(data2['age']>30)&(data2['age']<40)]['response'].value_counts()\n",
    "print(\"Yes response percentage for 30-40 age: \", np.round((a1['yes']/(a1['yes']+a1['no']))*100,4))\n",
    "a1 = data2[(data2['age']>40)&(data2['age']<50)]['response'].value_counts()\n",
    "print(\"Yes response percentage for 40-50 age: \", np.round((a1['yes']/(a1['yes']+a1['no']))*100,4))\n",
    "a1 = data2[(data2['age']>50)&(data2['age']<70.5)]['response'].value_counts()\n",
    "print(\"Yes response percentage for 50-70.5 age: \", np.round((a1['yes']/(a1['yes']+a1['no']))*100,4))"
   ]
  },
  {
   "cell_type": "markdown",
   "id": "6149554d",
   "metadata": {},
   "source": [
    "### Comparision salary of customers with target variable \"response\""
   ]
  },
  {
   "cell_type": "code",
   "execution_count": 66,
   "id": "a3a111a1",
   "metadata": {},
   "outputs": [
    {
     "data": {
      "text/plain": [
       "Text(0, 0.5, 'Frequency')"
      ]
     },
     "execution_count": 66,
     "metadata": {},
     "output_type": "execute_result"
    },
    {
     "data": {
      "image/png": "[encoded data removed]",
      "text/plain": [
       "<Figure size 576x360 with 1 Axes>"
      ]
     },
     "metadata": {
      "needs_background": "light"
     },
     "output_type": "display_data"
    }
   ],
   "source": [
    "pd.crosstab(data2.salary,data2.response).plot(kind=\"bar\",figsize=(8,5),color=['black','blue'])\n",
    "plt.title('Customer Salary Distribution')\n",
    "plt.ylabel('Frequency')"
   ]
  },
  {
   "cell_type": "code",
   "execution_count": 67,
   "id": "c6246dd6",
   "metadata": {},
   "outputs": [
    {
     "name": "stdout",
     "output_type": "stream",
     "text": [
      "Yes response percentage for 0-20k age:  16.6667\n",
      "Yes response percentage for 20k-55k age:  12.1951\n",
      "Yes response percentage for 55k-1lac age:  10.4753\n",
      "Yes response percentage for > 1 lac age:  8.2773\n"
     ]
    }
   ],
   "source": [
    "a1 = data2[(data2['salary']>0)&(data2['salary']<20000)]['response'].value_counts()\n",
    "print(\"Yes response percentage for 0-20k age: \", np.round((a1['yes']/(a1['yes']+a1['no']))*100,4))\n",
    "\n",
    "a1 = data2[(data2['salary']>20000)&(data2['salary']<55000)]['response'].value_counts()\n",
    "print(\"Yes response percentage for 20k-55k age: \", np.round((a1['yes']/(a1['yes']+a1['no']))*100,4))\n",
    "\n",
    "a1 = data2[(data2['salary']>55000)&(data2['salary']<100000)]['response'].value_counts()\n",
    "print(\"Yes response percentage for 55k-1lac age: \", np.round((a1['yes']/(a1['yes']+a1['no']))*100,4))\n",
    "\n",
    "a1 = data2[(data2['salary']>100000)]['response'].value_counts()\n",
    "print(\"Yes response percentage for > 1 lac age: \", np.round((a1['yes']/(a1['yes']+a1['no']))*100,4))"
   ]
  },
  {
   "cell_type": "markdown",
   "id": "dec7a2df",
   "metadata": {},
   "source": [
    "## 3.7 Correlation Matrix"
   ]
  },
  {
   "cell_type": "markdown",
   "id": "048d2c3c",
   "metadata": {},
   "source": [
    "- A heat map is a two-dimensional representation of data in which values are represented by colors which provides a visual summary of information.\n",
    "\n",
    "\n",
    "- Heat map work with only numerical values."
   ]
  },
  {
   "cell_type": "code",
   "execution_count": 68,
   "id": "739a0705",
   "metadata": {},
   "outputs": [
    {
     "data": {
      "text/plain": [
       "<AxesSubplot:>"
      ]
     },
     "execution_count": 68,
     "metadata": {},
     "output_type": "execute_result"
    },
    {
     "data": {
      "image/png": "[encoded data removed]",
      "text/plain": [
       "<Figure size 1080x576 with 2 Axes>"
      ]
     },
     "metadata": {
      "needs_background": "light"
     },
     "output_type": "display_data"
    }
   ],
   "source": [
    "plt.figure(figsize=[15,8])\n",
    "sns.heatmap(data2.corr(),annot=True,cmap=\"Blues\")"
   ]
  },
  {
   "cell_type": "markdown",
   "id": "3cb3124b",
   "metadata": {},
   "source": [
    "# 4. Conclusion "
   ]
  },
  {
   "cell_type": "markdown",
   "id": "8bfb88d5",
   "metadata": {},
   "source": [
    "The analysis are the recommendations for future marketing campaigns:\n",
    "    \n",
    "- Future campaigns should be targeted on customers from age categories below 30 years old and above 50 years old. Student and Senior citizen are more responded.\n",
    "\n",
    "\n",
    "- The number of contacts with the customer shouldn't exceed 3.\n",
    "\n",
    "\n",
    "- Mode of contact should be cellular and telephone.\n",
    "\n",
    "\n",
    "- The month of highest level of marketing activity was the month of May. But high response rate of customers is in (March, September and October). Campaign highly active in summer time. So, for future campaign marketing activity should be increase in winter season.\n",
    "\n",
    "\n",
    "- Call duration highly effect the response rate. Response rate and call duration is directly personal. So, when increase call duration response rate also increase.\n",
    "\n",
    "\n",
    "- Married people are more positive response.\n",
    "\n",
    "\n",
    "- House loan demand more in customers than personal loan. People wo preferred housing loan and not default are best to target.\n",
    "\n",
    "\n",
    "- People who have management, technician and blue-collar related jobs are best to target.\n",
    "\n",
    "\n",
    "- People who have completed their secondary education respond more. Students come under this category most.\n",
    "\n",
    "\n",
    "- Low salary customers have more “yes” response.\n"
   ]
  }
 ],
 "metadata": {
  "kernelspec": {
   "display_name": "Python 3 (ipykernel)",
   "language": "python",
   "name": "python3"
  },
  "language_info": {
   "codemirror_mode": {
    "name": "ipython",
    "version": 3
   },
   "file_extension": ".py",
   "mimetype": "text/x-python",
   "name": "python",
   "nbconvert_exporter": "python",
   "pygments_lexer": "ipython3",
   "version": "3.9.12"
  }
 },
 "nbformat": 4,
 "nbformat_minor": 5
}
